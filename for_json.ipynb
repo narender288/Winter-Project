{
 "cells": [
  {
   "cell_type": "markdown",
   "id": "0204d591-58f5-422a-b08b-6d7b90d64058",
   "metadata": {},
   "source": [
    "## Project - Sentiment Analysis"
   ]
  },
  {
   "cell_type": "code",
   "execution_count": 44,
   "id": "d09a248c-4e65-4f48-8481-4de82c4a0a8e",
   "metadata": {},
   "outputs": [],
   "source": [
    "import praw\n",
    "import time\n",
    "import json\n",
    "from textblob import TextBlob"
   ]
  },
  {
   "cell_type": "code",
   "execution_count": 2,
   "id": "21450855-806f-4d41-b234-bc3158f64f9d",
   "metadata": {},
   "outputs": [],
   "source": [
    "## Credentials\n",
    "id_number = 'VzvWxDgIRwgntoOiL-0MAg'  \n",
    "secret_number = 'GeXZwlOHE6DZNxhEn93z81N8UOsamA'  \n",
    "username = 'my_reddit_scraper:v1.0 (by /u/Narender_4087)'"
   ]
  },
  {
   "cell_type": "code",
   "execution_count": 3,
   "id": "cbc5081d-5592-46c7-9d64-dd3e14259d60",
   "metadata": {},
   "outputs": [],
   "source": [
    "reddit = praw.Reddit(client_id=id_number,\n",
    "                     client_secret=secret_number,\n",
    "                     user_agent=username)"
   ]
  },
  {
   "cell_type": "code",
   "execution_count": 4,
   "id": "049313f2-3c79-46a9-bf06-edb1fb1a5e6a",
   "metadata": {},
   "outputs": [],
   "source": [
    "subreddit_1 = reddit.subreddit('iphone')  # Add your desired subreddit here"
   ]
  },
  {
   "cell_type": "code",
   "execution_count": 5,
   "id": "0dde75b7-f137-48ca-9946-75f16eeff528",
   "metadata": {},
   "outputs": [],
   "source": [
    "num = 100000  # Number of posts to scrape\n",
    "batch_size = 10000  # Number of posts per batch\n",
    "output_file = 'reddit_iphone.json'  # Output file name\n",
    "\n",
    "# Create a list to store all the post data\n",
    "posts_data = []"
   ]
  },
  {
   "cell_type": "code",
   "execution_count": 6,
   "id": "36c308bd-3c75-43ff-9d53-cfe8c995197a",
   "metadata": {},
   "outputs": [
    {
     "name": "stdout",
     "output_type": "stream",
     "text": [
      "Scraping batch 1/10...\n",
      "Scraping batch 2/10...\n",
      "Scraping batch 3/10...\n",
      "Scraping batch 4/10...\n",
      "Scraping batch 5/10...\n",
      "Scraping batch 6/10...\n",
      "Scraping batch 7/10...\n",
      "Scraping batch 8/10...\n",
      "Scraping batch 9/10...\n",
      "Scraping batch 10/10...\n"
     ]
    }
   ],
   "source": [
    "for i in range(num // batch_size):\n",
    "    print(f\"Scraping batch {i+1}/{num // batch_size}...\")\n",
    "    \n",
    "    for submission in subreddit_1.new(limit=batch_size):\n",
    "        title = submission.title\n",
    "        upvotes = submission.score\n",
    "        url = submission.url\n",
    "        created = submission.created_utc\n",
    "        text = submission.selftext if submission.selftext else \"No text\"\n",
    "        \n",
    "        ## here we Perform sentiment analysis only if text is not empty, we are adding a creteria for extraction.\n",
    "        blob = TextBlob(text)\n",
    "        sentiment = blob.sentiment.polarity  ## its Polarity that varies from -1 (negative) to 1 (positive)\n",
    "        ## store the data in form.\n",
    "        post_data = {\n",
    "            'Title': title,\n",
    "            'Upvotes': upvotes,\n",
    "            'URL': url,\n",
    "            'Created': created,\n",
    "            'Text': text,\n",
    "            'Sentiment': sentiment\n",
    "        }\n",
    "        posts_data.append(post_data)\n",
    "    \n",
    "    # Waiting time to avoid Reddit's rate limits\n",
    "    time.sleep(5)"
   ]
  },
  {
   "cell_type": "code",
   "execution_count": 7,
   "id": "832cdd26-43ba-47fc-bce9-6fc611c347cc",
   "metadata": {},
   "outputs": [],
   "source": [
    "## convert the stored file into json file \n",
    "with open(output_file, 'w', encoding='utf-8') as jsonfile:\n",
    "    json.dump(posts_data, jsonfile, ensure_ascii=False, indent=4)"
   ]
  },
  {
   "cell_type": "code",
   "execution_count": 8,
   "id": "b8822863-fb78-4af1-86e0-479f0eef86ac",
   "metadata": {},
   "outputs": [
    {
     "name": "stdout",
     "output_type": "stream",
     "text": [
      "Finished scraping for iphone data that contain 100000 posts. Data saved to reddit_iphone.json.\n"
     ]
    }
   ],
   "source": [
    "print(f\"Finished scraping for iphone data that contain {num} posts. Data saved to {output_file}.\")"
   ]
  },
  {
   "cell_type": "code",
   "execution_count": 9,
   "id": "ed4519d7-0db2-4e91-a63b-23d70eaa14d8",
   "metadata": {},
   "outputs": [],
   "source": [
    "## for Samsung"
   ]
  },
  {
   "cell_type": "code",
   "execution_count": 10,
   "id": "93c1f094-e072-4987-be7b-1cfe7c96abec",
   "metadata": {},
   "outputs": [],
   "source": [
    "subreddit_2 = reddit.subreddit('samsung')"
   ]
  },
  {
   "cell_type": "code",
   "execution_count": 11,
   "id": "d57dd792-070f-420f-9c33-d7bacadd48d1",
   "metadata": {},
   "outputs": [],
   "source": [
    "num = 100000  # Number of posts to scrape\n",
    "batch_size = 10000  # Number of posts per batch\n",
    "output_file = 'reddit_samsung.json'  # Output file name\n",
    "\n",
    "# Create a list to store all the post data\n",
    "posts_data = []"
   ]
  },
  {
   "cell_type": "code",
   "execution_count": 12,
   "id": "0b74f9af-7651-4726-905e-0dc89849eebc",
   "metadata": {},
   "outputs": [
    {
     "name": "stdout",
     "output_type": "stream",
     "text": [
      "Scraping batch 1/10...\n",
      "Scraping batch 2/10...\n",
      "Scraping batch 3/10...\n",
      "Scraping batch 4/10...\n",
      "Scraping batch 5/10...\n",
      "Scraping batch 6/10...\n",
      "Scraping batch 7/10...\n",
      "Scraping batch 8/10...\n",
      "Scraping batch 9/10...\n",
      "Scraping batch 10/10...\n"
     ]
    }
   ],
   "source": [
    "# Scraping and processing posts\n",
    "for i in range(num // batch_size):\n",
    "    print(f\"Scraping batch {i+1}/{num // batch_size}...\")\n",
    "    \n",
    "    for submission in subreddit_2.new(limit=batch_size):\n",
    "        title = submission.title\n",
    "        upvotes = submission.score\n",
    "        url = submission.url\n",
    "        created = submission.created_utc\n",
    "        text = submission.selftext if submission.selftext else \"No text\"\n",
    "        \n",
    "        # Perform sentiment analysis if text is not empty\n",
    "        blob = TextBlob(text)\n",
    "        sentiment = blob.sentiment.polarity  # Polarity from -1 (negative) to 1 (positive)\n",
    "        \n",
    "        # Store the post data in a dictionary\n",
    "        post_data = {\n",
    "            'Title': title,\n",
    "            'Upvotes': upvotes,\n",
    "            'URL': url,\n",
    "            'Created': created,\n",
    "            'Text': text,\n",
    "            'Sentiment': sentiment\n",
    "        }\n",
    "        posts_data.append(post_data)\n",
    "    \n",
    "    # Waiting time to avoid Reddit's rate limits\n",
    "    time.sleep(5)"
   ]
  },
  {
   "cell_type": "code",
   "execution_count": 13,
   "id": "18d7f779-ba11-4eae-82e3-465c47c76e3e",
   "metadata": {},
   "outputs": [],
   "source": [
    "## convert the stored data into json file\n",
    "with open(output_file, 'w', encoding='utf-8') as jsonfile:\n",
    "    json.dump(posts_data, jsonfile, ensure_ascii=False, indent=4)"
   ]
  },
  {
   "cell_type": "code",
   "execution_count": 14,
   "id": "6ba0b3e4-c8f9-443b-b7d7-d0adbfd72fae",
   "metadata": {},
   "outputs": [
    {
     "name": "stdout",
     "output_type": "stream",
     "text": [
      "Finished scraping of samsung data that contain 100000 posts. Data saved to reddit_samsung.json.\n"
     ]
    }
   ],
   "source": [
    "print(f\"Finished scraping of samsung data that contain {num} posts. Data saved to {output_file}.\")"
   ]
  },
  {
   "cell_type": "code",
   "execution_count": 15,
   "id": "c7387bd5-12bc-4286-8114-8efd2bb8dcb5",
   "metadata": {},
   "outputs": [],
   "source": [
    "subreddit_3 = reddit.subreddit('pixel')  # Subreddit related to Pixel phones"
   ]
  },
  {
   "cell_type": "code",
   "execution_count": 16,
   "id": "d7f70b06-c5db-407c-a52e-83abb2362a82",
   "metadata": {},
   "outputs": [],
   "source": [
    "num = 100000  # Number of posts to scrape\n",
    "batch_size = 10000  # Number of posts per batch\n",
    "output_file = 'reddit_pixel.json'  # Output file name\n",
    "\n",
    "# Create a list to store all the post data\n",
    "posts_data = []"
   ]
  },
  {
   "cell_type": "code",
   "execution_count": 17,
   "id": "a11e7183-1833-4e0d-b72f-dff3eaacaa0c",
   "metadata": {},
   "outputs": [
    {
     "name": "stdout",
     "output_type": "stream",
     "text": [
      "Scraping batch 1/10...\n",
      "Scraping batch 2/10...\n",
      "Scraping batch 3/10...\n",
      "Scraping batch 4/10...\n",
      "Scraping batch 5/10...\n",
      "Scraping batch 6/10...\n",
      "Scraping batch 7/10...\n",
      "Scraping batch 8/10...\n",
      "Scraping batch 9/10...\n",
      "Scraping batch 10/10...\n"
     ]
    }
   ],
   "source": [
    "# Scraping and processing posts\n",
    "for i in range(num // batch_size):\n",
    "    print(f\"Scraping batch {i+1}/{num // batch_size}...\")\n",
    "    \n",
    "    for submission in subreddit_3.new(limit=batch_size):\n",
    "        title = submission.title\n",
    "        upvotes = submission.score\n",
    "        url = submission.url\n",
    "        created = submission.created_utc\n",
    "        text = submission.selftext if submission.selftext else \"No text\"\n",
    "        \n",
    "        # Perform sentiment analysis if text is not empty\n",
    "        blob = TextBlob(text)\n",
    "        sentiment = blob.sentiment.polarity  # Polarity from -1 (negative) to 1 (positive)\n",
    "        \n",
    "        # Store the post data in a dictionary\n",
    "        post_data = {\n",
    "            'Title': title,\n",
    "            'Upvotes': upvotes,\n",
    "            'URL': url,\n",
    "            'Created': created,\n",
    "            'Text': text,\n",
    "            'Sentiment': sentiment\n",
    "        }\n",
    "\n",
    "        # Append the post data to the list\n",
    "        posts_data.append(post_data)\n",
    "    \n",
    "    # Wait to avoid Reddit's rate limits\n",
    "    time.sleep(5)"
   ]
  },
  {
   "cell_type": "code",
   "execution_count": 18,
   "id": "cc6f8f39-c8ab-4bc6-97a1-92436c04e465",
   "metadata": {},
   "outputs": [],
   "source": [
    "## stored the data into jason file\n",
    "with open(output_file, 'w', encoding='utf-8') as jsonfile:\n",
    "    json.dump(posts_data, jsonfile, ensure_ascii=False, indent=4)"
   ]
  },
  {
   "cell_type": "code",
   "execution_count": 19,
   "id": "46408a4d-2c2c-44ed-9e4c-f29b021a48b0",
   "metadata": {},
   "outputs": [
    {
     "name": "stdout",
     "output_type": "stream",
     "text": [
      "Finished scraping of google pixel data that contain 100000 posts. Data saved to reddit_pixel.json.\n"
     ]
    }
   ],
   "source": [
    "print(f\"Finished scraping of google pixel data that contain {num} posts. Data saved to {output_file}.\")"
   ]
  },
  {
   "cell_type": "code",
   "execution_count": 20,
   "id": "e5787d7a-a695-46d8-8ac2-36f3557b2670",
   "metadata": {},
   "outputs": [],
   "source": [
    "subreddit_4 = reddit.subreddit('oneplus')  # Subreddit related to OnePlus phones"
   ]
  },
  {
   "cell_type": "code",
   "execution_count": 21,
   "id": "8a0ac38c-4591-4628-84cf-fe9f9a2bd76c",
   "metadata": {},
   "outputs": [],
   "source": [
    "num = 100000  # Number of posts to scrape\n",
    "batch_size = 10000  # Number of posts per batch\n",
    "output_file = 'reddit_oneplus.json'  # Output file name\n",
    "\n",
    "# Create a list to store all the post data\n",
    "posts_data = []"
   ]
  },
  {
   "cell_type": "code",
   "execution_count": 22,
   "id": "12e0956e-a35e-4de0-a07b-470b10712a39",
   "metadata": {},
   "outputs": [
    {
     "name": "stdout",
     "output_type": "stream",
     "text": [
      "Scraping batch 1/10...\n",
      "Scraping batch 2/10...\n",
      "Scraping batch 3/10...\n",
      "Scraping batch 4/10...\n",
      "Scraping batch 5/10...\n",
      "Scraping batch 6/10...\n",
      "Scraping batch 7/10...\n",
      "Scraping batch 8/10...\n",
      "Scraping batch 9/10...\n",
      "Scraping batch 10/10...\n"
     ]
    }
   ],
   "source": [
    "# Scraping and processing posts\n",
    "for i in range(num // batch_size):\n",
    "    print(f\"Scraping batch {i+1}/{num // batch_size}...\")\n",
    "    \n",
    "    for submission in subreddit_4.new(limit=batch_size):\n",
    "        title = submission.title\n",
    "        upvotes = submission.score\n",
    "        url = submission.url\n",
    "        created = submission.created_utc\n",
    "        text = submission.selftext if submission.selftext else \"No text\"\n",
    "        \n",
    "        # Perform sentiment analysis if text is not empty\n",
    "        blob = TextBlob(text)\n",
    "        sentiment = blob.sentiment.polarity  # Polarity from -1 (negative) to 1 (positive)\n",
    "        \n",
    "        # Store the post data in a dictionary\n",
    "        post_data = {\n",
    "            'Title': title,\n",
    "            'Upvotes': upvotes,\n",
    "            'URL': url,\n",
    "            'Created': created,\n",
    "            'Text': text,\n",
    "            'Sentiment': sentiment\n",
    "        }\n",
    "\n",
    "        # Append the post data to the list\n",
    "        posts_data.append(post_data)\n",
    "    \n",
    "    # Wait to avoid Reddit's rate limits\n",
    "    time.sleep(5)"
   ]
  },
  {
   "cell_type": "code",
   "execution_count": 23,
   "id": "2980bf20-cdce-4402-84e6-731d67517eec",
   "metadata": {},
   "outputs": [],
   "source": [
    "# Write the collected data to a JSON file\n",
    "with open(output_file, 'w', encoding='utf-8') as jsonfile:\n",
    "    json.dump(posts_data, jsonfile, ensure_ascii=False, indent=4)"
   ]
  },
  {
   "cell_type": "code",
   "execution_count": 24,
   "id": "5e56e335-80d1-44fa-8745-f990aa9461a2",
   "metadata": {},
   "outputs": [
    {
     "name": "stdout",
     "output_type": "stream",
     "text": [
      "Finished scraping of one plus data that contain 100000 posts. Data saved to reddit_oneplus.json.\n"
     ]
    }
   ],
   "source": [
    "print(f\"Finished scraping of one plus data that contain {num} posts. Data saved to {output_file}.\")"
   ]
  },
  {
   "cell_type": "markdown",
   "id": "b5d10ff9-b862-4c9e-be56-7cdd4e54115f",
   "metadata": {},
   "source": [
    "## EDA-iphone"
   ]
  },
  {
   "cell_type": "code",
   "execution_count": 237,
   "id": "fbe9b96a-e43a-4a20-a3d3-ead89032c8e6",
   "metadata": {},
   "outputs": [],
   "source": [
    "import pandas as pd"
   ]
  },
  {
   "cell_type": "code",
   "execution_count": 238,
   "id": "ee319df8-4fd8-40a5-b4d1-d7cc78c9e8fa",
   "metadata": {},
   "outputs": [
    {
     "data": {
      "text/html": [
       "<div>\n",
       "<style scoped>\n",
       "    .dataframe tbody tr th:only-of-type {\n",
       "        vertical-align: middle;\n",
       "    }\n",
       "\n",
       "    .dataframe tbody tr th {\n",
       "        vertical-align: top;\n",
       "    }\n",
       "\n",
       "    .dataframe thead th {\n",
       "        text-align: right;\n",
       "    }\n",
       "</style>\n",
       "<table border=\"1\" class=\"dataframe\">\n",
       "  <thead>\n",
       "    <tr style=\"text-align: right;\">\n",
       "      <th></th>\n",
       "      <th>Title</th>\n",
       "      <th>Upvotes</th>\n",
       "      <th>URL</th>\n",
       "      <th>Created</th>\n",
       "      <th>Text</th>\n",
       "      <th>Sentiment</th>\n",
       "    </tr>\n",
       "  </thead>\n",
       "  <tbody>\n",
       "    <tr>\n",
       "      <th>0</th>\n",
       "      <td>Messages sending as a contact rather than main...</td>\n",
       "      <td>1</td>\n",
       "      <td>https://www.reddit.com/r/iphone/comments/1heqf...</td>\n",
       "      <td>1734260818</td>\n",
       "      <td>Hi guys, \\n\\nOn my dad's phone (13) every so o...</td>\n",
       "      <td>-0.100000</td>\n",
       "    </tr>\n",
       "    <tr>\n",
       "      <th>1</th>\n",
       "      <td>SOS! When my ex sends me a message, it pops up...</td>\n",
       "      <td>1</td>\n",
       "      <td>https://www.reddit.com/r/iphone/comments/1heqc...</td>\n",
       "      <td>1734260510</td>\n",
       "      <td>My ex sent me a text and it came through under...</td>\n",
       "      <td>0.044239</td>\n",
       "    </tr>\n",
       "    <tr>\n",
       "      <th>2</th>\n",
       "      <td>I use to be able to have a YouTube video play ...</td>\n",
       "      <td>1</td>\n",
       "      <td>https://www.reddit.com/r/iphone/comments/1heq0...</td>\n",
       "      <td>1734258952</td>\n",
       "      <td>Siri won’t play YouTube videos instead she jus...</td>\n",
       "      <td>0.000000</td>\n",
       "    </tr>\n",
       "    <tr>\n",
       "      <th>3</th>\n",
       "      <td>accidentally sent as text message</td>\n",
       "      <td>1</td>\n",
       "      <td>https://www.reddit.com/r/iphone/comments/1hepz...</td>\n",
       "      <td>1734258833</td>\n",
       "      <td>so i was talking to someone over messages and ...</td>\n",
       "      <td>-0.050000</td>\n",
       "    </tr>\n",
       "    <tr>\n",
       "      <th>4</th>\n",
       "      <td>Please help me fix my phone !!!</td>\n",
       "      <td>6</td>\n",
       "      <td>https://i.redd.it/cy1o2zwnnz6e1.jpeg</td>\n",
       "      <td>1734258079</td>\n",
       "      <td>Phone model is 13 Pro max and the update Ive b...</td>\n",
       "      <td>0.038920</td>\n",
       "    </tr>\n",
       "  </tbody>\n",
       "</table>\n",
       "</div>"
      ],
      "text/plain": [
       "                                               Title  Upvotes  \\\n",
       "0  Messages sending as a contact rather than main...        1   \n",
       "1  SOS! When my ex sends me a message, it pops up...        1   \n",
       "2  I use to be able to have a YouTube video play ...        1   \n",
       "3                  accidentally sent as text message        1   \n",
       "4                    Please help me fix my phone !!!        6   \n",
       "\n",
       "                                                 URL     Created  \\\n",
       "0  https://www.reddit.com/r/iphone/comments/1heqf...  1734260818   \n",
       "1  https://www.reddit.com/r/iphone/comments/1heqc...  1734260510   \n",
       "2  https://www.reddit.com/r/iphone/comments/1heq0...  1734258952   \n",
       "3  https://www.reddit.com/r/iphone/comments/1hepz...  1734258833   \n",
       "4               https://i.redd.it/cy1o2zwnnz6e1.jpeg  1734258079   \n",
       "\n",
       "                                                Text  Sentiment  \n",
       "0  Hi guys, \\n\\nOn my dad's phone (13) every so o...  -0.100000  \n",
       "1  My ex sent me a text and it came through under...   0.044239  \n",
       "2  Siri won’t play YouTube videos instead she jus...   0.000000  \n",
       "3  so i was talking to someone over messages and ...  -0.050000  \n",
       "4  Phone model is 13 Pro max and the update Ive b...   0.038920  "
      ]
     },
     "execution_count": 238,
     "metadata": {},
     "output_type": "execute_result"
    }
   ],
   "source": [
    "df_1 = pd.read_json(\"reddit_iphone.json\")\n",
    "df_1.head()"
   ]
  },
  {
   "cell_type": "code",
   "execution_count": 239,
   "id": "baeff9c7-c60e-475f-90ad-2a7e3fb095ca",
   "metadata": {},
   "outputs": [
    {
     "name": "stdout",
     "output_type": "stream",
     "text": [
      "<class 'pandas.core.frame.DataFrame'>\n",
      "RangeIndex: 9823 entries, 0 to 9822\n",
      "Data columns (total 6 columns):\n",
      " #   Column     Non-Null Count  Dtype  \n",
      "---  ------     --------------  -----  \n",
      " 0   Title      9823 non-null   object \n",
      " 1   Upvotes    9823 non-null   int64  \n",
      " 2   URL        9823 non-null   object \n",
      " 3   Created    9823 non-null   int64  \n",
      " 4   Text       9823 non-null   object \n",
      " 5   Sentiment  9823 non-null   float64\n",
      "dtypes: float64(1), int64(2), object(3)\n",
      "memory usage: 460.6+ KB\n"
     ]
    }
   ],
   "source": [
    "df_1.info()"
   ]
  },
  {
   "cell_type": "code",
   "execution_count": 240,
   "id": "937b0633-08b8-425b-9cf7-0394ad86b7e2",
   "metadata": {},
   "outputs": [],
   "source": [
    "iphone = df_1.drop_duplicates()"
   ]
  },
  {
   "cell_type": "code",
   "execution_count": 241,
   "id": "1d5b07c5-3e15-4bf5-a288-e3964b8ca0c5",
   "metadata": {},
   "outputs": [
    {
     "name": "stdout",
     "output_type": "stream",
     "text": [
      "<class 'pandas.core.frame.DataFrame'>\n",
      "Index: 1480 entries, 0 to 9740\n",
      "Data columns (total 6 columns):\n",
      " #   Column     Non-Null Count  Dtype  \n",
      "---  ------     --------------  -----  \n",
      " 0   Title      1480 non-null   object \n",
      " 1   Upvotes    1480 non-null   int64  \n",
      " 2   URL        1480 non-null   object \n",
      " 3   Created    1480 non-null   int64  \n",
      " 4   Text       1480 non-null   object \n",
      " 5   Sentiment  1480 non-null   float64\n",
      "dtypes: float64(1), int64(2), object(3)\n",
      "memory usage: 80.9+ KB\n"
     ]
    }
   ],
   "source": [
    "iphone.info()"
   ]
  },
  {
   "cell_type": "code",
   "execution_count": 242,
   "id": "ae147760-6aaf-462a-9efc-639c0120d200",
   "metadata": {},
   "outputs": [],
   "source": [
    "## so finally from iphone we are able to extract around 1500 rows."
   ]
  },
  {
   "cell_type": "code",
   "execution_count": 243,
   "id": "fce27015-1984-4cc6-b392-47bb74a40425",
   "metadata": {},
   "outputs": [
    {
     "data": {
      "text/plain": [
       "<bound method NDFrame.describe of                                                   Title  Upvotes  \\\n",
       "0     Messages sending as a contact rather than main...        1   \n",
       "1     SOS! When my ex sends me a message, it pops up...        1   \n",
       "2     I use to be able to have a YouTube video play ...        1   \n",
       "3                     accidentally sent as text message        1   \n",
       "4                       Please help me fix my phone !!!        6   \n",
       "...                                                 ...      ...   \n",
       "9609                                       iPhone users       33   \n",
       "9669  whats the point of having this if i cant eyedr...       48   \n",
       "9698  Is there anyway to remove Bitmoji from iPhone ...       10   \n",
       "9708  I have a question regarding with my iphone 11 ...        2   \n",
       "9740  Is Apple Intelligence suppose to improve siri,...       64   \n",
       "\n",
       "                                                    URL     Created  \\\n",
       "0     https://www.reddit.com/r/iphone/comments/1heqf...  1734260818   \n",
       "1     https://www.reddit.com/r/iphone/comments/1heqc...  1734260510   \n",
       "2     https://www.reddit.com/r/iphone/comments/1heq0...  1734258952   \n",
       "3     https://www.reddit.com/r/iphone/comments/1hepz...  1734258833   \n",
       "4                  https://i.redd.it/cy1o2zwnnz6e1.jpeg  1734258079   \n",
       "...                                                 ...         ...   \n",
       "9609  https://www.reddit.com/r/iphone/comments/1hbg9...  1733875289   \n",
       "9669               https://i.redd.it/2j89pt7fn16e1.jpeg  1733846365   \n",
       "9698               https://i.redd.it/llwwp3xc106e1.jpeg  1733826836   \n",
       "9708               https://i.redd.it/jj00bqrdhz5e1.jpeg  1733820119   \n",
       "9740  https://www.reddit.com/r/iphone/comments/1has1...  1733799742   \n",
       "\n",
       "                                                   Text  Sentiment  \n",
       "0     Hi guys, \\n\\nOn my dad's phone (13) every so o...  -0.100000  \n",
       "1     My ex sent me a text and it came through under...   0.044239  \n",
       "2     Siri won’t play YouTube videos instead she jus...   0.000000  \n",
       "3     so i was talking to someone over messages and ...  -0.050000  \n",
       "4     Phone model is 13 Pro max and the update Ive b...   0.038920  \n",
       "...                                                 ...        ...  \n",
       "9609  Do you ever have moments on Reddit you can’t t...   0.000000  \n",
       "9669  Trying to get a specific color from a photo bu...   0.000000  \n",
       "9698  I have deleted bitmoji but the pictures I’ve u...   0.050000  \n",
       "9708  So I purchased this phone around 2022. This is...   0.113333  \n",
       "9740  Am I doing something wrong? I thought the whol...  -0.350000  \n",
       "\n",
       "[1480 rows x 6 columns]>"
      ]
     },
     "execution_count": 243,
     "metadata": {},
     "output_type": "execute_result"
    }
   ],
   "source": [
    "iphone.describe"
   ]
  },
  {
   "cell_type": "code",
   "execution_count": 244,
   "id": "a165c647-f49b-4e2c-874c-8819d4995255",
   "metadata": {},
   "outputs": [
    {
     "data": {
      "text/plain": [
       "Title        0\n",
       "Upvotes      0\n",
       "URL          0\n",
       "Created      0\n",
       "Text         0\n",
       "Sentiment    0\n",
       "dtype: int64"
      ]
     },
     "execution_count": 244,
     "metadata": {},
     "output_type": "execute_result"
    }
   ],
   "source": [
    "iphone.isnull().sum()"
   ]
  },
  {
   "cell_type": "code",
   "execution_count": 245,
   "id": "758e0581-9a2c-4024-a8d6-9ce23ed8da62",
   "metadata": {},
   "outputs": [],
   "source": [
    "## as we already put a restriction while extraction that text should be non-empty and here we see that there is no null value of any."
   ]
  },
  {
   "cell_type": "code",
   "execution_count": 246,
   "id": "d67f2dd6-a3f4-4010-b203-d522210facce",
   "metadata": {},
   "outputs": [],
   "source": [
    "import re\n",
    "import nltk\n",
    "from nltk.corpus import stopwords"
   ]
  },
  {
   "cell_type": "code",
   "execution_count": 247,
   "id": "528d1ab6-d98e-48ef-8684-97d72d79dd1e",
   "metadata": {},
   "outputs": [],
   "source": [
    "def clean_text(text):\n",
    "    # this is converting my entire text to lowercase\n",
    "    text = text.lower()\n",
    "    \n",
    "    text = re.sub(r'[^a-zA-Z\\s]', '', text) # removing punctuation and non-alphabetic characters of text clumn.\n",
    "\n",
    "    stop_words = set(stopwords.words('english'))     # Removing stopwords\n",
    "    words = text.split()\n",
    "    text = ' '.join([word for word in words if word not in stop_words])\n",
    "\n",
    "    # Removing extra spaces\n",
    "    text = ' '.join(text.split())\n",
    "\n",
    "    return text"
   ]
  },
  {
   "cell_type": "code",
   "execution_count": 248,
   "id": "08a4a725-ae5d-4cb4-8283-131b78ecf8e6",
   "metadata": {},
   "outputs": [
    {
     "data": {
      "text/plain": [
       "'Siri won’t play YouTube videos instead she just pulls up a list of searches. Anyone know how to fix this?'"
      ]
     },
     "execution_count": 248,
     "metadata": {},
     "output_type": "execute_result"
    }
   ],
   "source": [
    "iphone['Text'][2]"
   ]
  },
  {
   "cell_type": "code",
   "execution_count": 249,
   "id": "0037cbd1-c22a-452b-a49f-d59bf1385569",
   "metadata": {},
   "outputs": [
    {
     "name": "stdout",
     "output_type": "stream",
     "text": [
      "siri wont play youtube videos instead pulls list searches anyone know fix\n"
     ]
    }
   ],
   "source": [
    "## like this if we have any comment like below \n",
    "raw_text = \" Siri won’t play YouTube videos instead she just pulls up a list of searches. Anyone know how to fix this? \"\n",
    "cleaned_text = clean_text(raw_text)\n",
    "print(cleaned_text)"
   ]
  },
  {
   "cell_type": "code",
   "execution_count": 250,
   "id": "97e040ea-cacb-46a7-bb36-d7a300dcf56b",
   "metadata": {},
   "outputs": [],
   "source": [
    "iphone = iphone.drop(columns=['URL'])"
   ]
  },
  {
   "cell_type": "code",
   "execution_count": 251,
   "id": "b1b2fde5-9470-418e-a294-09855587d525",
   "metadata": {},
   "outputs": [],
   "source": [
    "## Clean- text"
   ]
  },
  {
   "cell_type": "code",
   "execution_count": 252,
   "id": "0a5b62d5-60cc-418c-982b-cc70d1495f27",
   "metadata": {},
   "outputs": [],
   "source": [
    "iphone.loc[:, 'Text'] = iphone['Text'].apply(clean_text)"
   ]
  },
  {
   "cell_type": "markdown",
   "id": "8a24bff7-f25f-4842-ae9d-c277aa753811",
   "metadata": {},
   "source": [
    "## Using VADER"
   ]
  },
  {
   "cell_type": "code",
   "execution_count": 253,
   "id": "f6e0d4d6-750a-41c8-bd9d-28ff2dceb1e8",
   "metadata": {},
   "outputs": [],
   "source": [
    "from vaderSentiment.vaderSentiment import SentimentIntensityAnalyzer"
   ]
  },
  {
   "cell_type": "code",
   "execution_count": 254,
   "id": "f1da9320-a6e3-4877-8c47-706f88784182",
   "metadata": {},
   "outputs": [],
   "source": [
    "iphone_ana = SentimentIntensityAnalyzer() # VADER sentiment analyzer"
   ]
  },
  {
   "cell_type": "code",
   "execution_count": 255,
   "id": "36c196d1-46d0-420f-bb0d-f5e6d9324efd",
   "metadata": {},
   "outputs": [],
   "source": [
    "## simply defining a fucntion named assign_sentiment.\n",
    "\n",
    "def assign_sentiment(compound_score):\n",
    "    if compound_score >= 0.05:\n",
    "        return 'Positive'\n",
    "    elif compound_score <= -0.05:\n",
    "        return 'Negative'\n",
    "    else:\n",
    "        return 'Neutral'"
   ]
  },
  {
   "cell_type": "code",
   "execution_count": 256,
   "id": "d2643186-7908-4cfa-94ff-8701f7dfdbb7",
   "metadata": {},
   "outputs": [],
   "source": [
    "# Apply VADER sentiment analysis\n",
    "iphone.loc[:, 'Sentiment-Vader'] = iphone['Text'].apply(lambda x: assign_sentiment(iphone_ana.polarity_scores(x)['compound']))"
   ]
  },
  {
   "cell_type": "code",
   "execution_count": 257,
   "id": "4a824ed7-cd8b-4721-8f7b-22a07e599a85",
   "metadata": {},
   "outputs": [
    {
     "data": {
      "text/plain": [
       "0       Negative\n",
       "1       Negative\n",
       "2       Negative\n",
       "3       Positive\n",
       "4       Positive\n",
       "          ...   \n",
       "9609     Neutral\n",
       "9669     Neutral\n",
       "9698    Positive\n",
       "9708    Positive\n",
       "9740    Negative\n",
       "Name: Sentiment-Vader, Length: 1480, dtype: object"
      ]
     },
     "execution_count": 257,
     "metadata": {},
     "output_type": "execute_result"
    }
   ],
   "source": [
    "iphone['Sentiment-Vader']"
   ]
  },
  {
   "cell_type": "code",
   "execution_count": 258,
   "id": "2dace969-b87b-43ab-82f5-b8b86e4d0bfe",
   "metadata": {},
   "outputs": [
    {
     "data": {
      "text/plain": [
       "Sentiment-Vader\n",
       "Positive    745\n",
       "Neutral     379\n",
       "Negative    356\n",
       "Name: count, dtype: int64"
      ]
     },
     "execution_count": 258,
     "metadata": {},
     "output_type": "execute_result"
    }
   ],
   "source": [
    "iphone['Sentiment-Vader'].value_counts()"
   ]
  },
  {
   "cell_type": "code",
   "execution_count": 259,
   "id": "6989b45c-f639-47f5-a69d-0233f487cd57",
   "metadata": {},
   "outputs": [
    {
     "data": {
      "text/plain": [
       "<Axes: xlabel='Sentiment-Vader'>"
      ]
     },
     "execution_count": 259,
     "metadata": {},
     "output_type": "execute_result"
    },
    {
     "data": {
      "image/png": "[encoded data removed]",
      "text/plain": [
       "<Figure size 640x480 with 1 Axes>"
      ]
     },
     "metadata": {},
     "output_type": "display_data"
    }
   ],
   "source": [
    "iphone['Sentiment-Vader'].value_counts().plot(kind='bar')"
   ]
  },
  {
   "cell_type": "code",
   "execution_count": 260,
   "id": "010e9ab2-7eb2-415f-84e2-e6ac8979abf3",
   "metadata": {},
   "outputs": [
    {
     "data": {
      "text/plain": [
       "0        1\n",
       "1        1\n",
       "2        1\n",
       "3        1\n",
       "4        6\n",
       "        ..\n",
       "9609    33\n",
       "9669    48\n",
       "9698    10\n",
       "9708     2\n",
       "9740    64\n",
       "Name: Upvotes, Length: 1480, dtype: int64"
      ]
     },
     "execution_count": 260,
     "metadata": {},
     "output_type": "execute_result"
    }
   ],
   "source": [
    "iphone['Upvotes']"
   ]
  },
  {
   "cell_type": "code",
   "execution_count": 261,
   "id": "c124678f-bdf3-4d42-ba9f-b7a2656ffd35",
   "metadata": {},
   "outputs": [
    {
     "data": {
      "text/plain": [
       "105.66351351351351"
      ]
     },
     "execution_count": 261,
     "metadata": {},
     "output_type": "execute_result"
    }
   ],
   "source": [
    "iphone['Upvotes'].mean()"
   ]
  },
  {
   "cell_type": "code",
   "execution_count": 262,
   "id": "e7e63887-8174-4c09-93fb-cb43f13e7ca4",
   "metadata": {},
   "outputs": [],
   "source": [
    "## it simply defines the average of likes."
   ]
  },
  {
   "cell_type": "code",
   "execution_count": 263,
   "id": "de47bd7d-dfea-461e-80d5-b9ac9c88e8f4",
   "metadata": {},
   "outputs": [
    {
     "data": {
      "text/plain": [
       "<pandas.core.groupby.generic.DataFrameGroupBy object at 0x000001D641CAB110>"
      ]
     },
     "execution_count": 263,
     "metadata": {},
     "output_type": "execute_result"
    }
   ],
   "source": [
    "iphone.groupby('Sentiment-Vader')"
   ]
  },
  {
   "cell_type": "code",
   "execution_count": 264,
   "id": "bf20cc60-2b06-48bc-b3de-6c31ecda6776",
   "metadata": {},
   "outputs": [
    {
     "data": {
      "text/plain": [
       "Sentiment-Vader\n",
       "Negative     35.553371\n",
       "Neutral     284.290237\n",
       "Positive     48.293960\n",
       "Name: Upvotes, dtype: float64"
      ]
     },
     "execution_count": 264,
     "metadata": {},
     "output_type": "execute_result"
    }
   ],
   "source": [
    "iphone.groupby('Sentiment-Vader')['Upvotes'].mean()"
   ]
  },
  {
   "cell_type": "code",
   "execution_count": 265,
   "id": "bf8d2d13-c7a4-4180-942c-c8d85148bf2c",
   "metadata": {},
   "outputs": [
    {
     "data": {
      "text/plain": [
       "<Axes: xlabel='Sentiment-Vader'>"
      ]
     },
     "execution_count": 265,
     "metadata": {},
     "output_type": "execute_result"
    },
    {
     "data": {
      "image/png": "[encoded data removed]",
      "text/plain": [
       "<Figure size 640x480 with 1 Axes>"
      ]
     },
     "metadata": {},
     "output_type": "display_data"
    }
   ],
   "source": [
    "iphone.groupby('Sentiment-Vader')['Upvotes'].mean().plot(kind='bar')"
   ]
  },
  {
   "cell_type": "code",
   "execution_count": 266,
   "id": "c8b32714-0ec2-4d4c-996f-8d580f70c0ce",
   "metadata": {},
   "outputs": [
    {
     "data": {
      "text/plain": [
       "0       1734260818\n",
       "1       1734260510\n",
       "2       1734258952\n",
       "3       1734258833\n",
       "4       1734258079\n",
       "           ...    \n",
       "9609    1733875289\n",
       "9669    1733846365\n",
       "9698    1733826836\n",
       "9708    1733820119\n",
       "9740    1733799742\n",
       "Name: Created, Length: 1480, dtype: int64"
      ]
     },
     "execution_count": 266,
     "metadata": {},
     "output_type": "execute_result"
    }
   ],
   "source": [
    "iphone['Created']  ## it is showing the timestamp, about the particular post like when it posted."
   ]
  },
  {
   "cell_type": "code",
   "execution_count": 267,
   "id": "bf67b93c-9f07-4234-9ce0-ec798753fb27",
   "metadata": {},
   "outputs": [
    {
     "data": {
      "text/plain": [
       "array([1734260818, 1734260510, 1734258952, 1734258833, 1734258079,\n",
       "       1734255503, 1734253828, 1734253023, 1734252623, 1734250816,\n",
       "       1734249001, 1734248306, 1734246164, 1734195497, 1734199858,\n",
       "       1734216585, 1734227273, 1734236672, 1734242839, 1734244660,\n",
       "       1734244451, 1734244090, 1734242106, 1734241424, 1734241383,\n",
       "       1734241198, 1734240255, 1734239803, 1734239651, 1734239126,\n",
       "       1734238702, 1734238568, 1734238370, 1734237292, 1734236957,\n",
       "       1734236888, 1734236701, 1734235959, 1734233706, 1734232991,\n",
       "       1734231683, 1734231351, 1734231225, 1734230908, 1734230813,\n",
       "       1734230493, 1734228172, 1734227758, 1734227275, 1734226587,\n",
       "       1734226383, 1734224613, 1734224540, 1734224519, 1734224340,\n",
       "       1734223837, 1734223320, 1734222446, 1734222161, 1734221504,\n",
       "       1734221156, 1734220525, 1734220453, 1734219476, 1734219164,\n",
       "       1734218463, 1734218157, 1734217972, 1734217733, 1734216769,\n",
       "       1734216579, 1734216281, 1734216226, 1734215971, 1734214954,\n",
       "       1734213859, 1734213411, 1734213247, 1734212313, 1734211667,\n",
       "       1734211194, 1734211023, 1734210950, 1734210641, 1734209691,\n",
       "       1734209103, 1734208955, 1734208760, 1734208583, 1734208336,\n",
       "       1734208010, 1734207563, 1734207382, 1734207119, 1734207057,\n",
       "       1734207049, 1734206152, 1734205291, 1734205223, 1734204878,\n",
       "       1734204240, 1734204076, 1734203416, 1734203395, 1734203194,\n",
       "       1734203155, 1734203004, 1734202836, 1734202815, 1734202755,\n",
       "       1734202693, 1734202499, 1734202381, 1734202292, 1734201772,\n",
       "       1734201589, 1734201566, 1734199670, 1734199510, 1734198254,\n",
       "       1734197620, 1734197587, 1734196600, 1734195109, 1734194239,\n",
       "       1734194033, 1734192990, 1734192261, 1734190133, 1734189669,\n",
       "       1734188636, 1734188593, 1734188463, 1734187977, 1734187074,\n",
       "       1734186196, 1734186162, 1734186003, 1734185795, 1734185784,\n",
       "       1734185431, 1734185301, 1734185010, 1734184718, 1734184699,\n",
       "       1734184459, 1734183243, 1734181863, 1734180278, 1734180197,\n",
       "       1734179787, 1734178966, 1734178397, 1734177562, 1734177522,\n",
       "       1734176293, 1734174963, 1734174878, 1734174412, 1734174390,\n",
       "       1734174242, 1734172683, 1734172269, 1734171599, 1734171262,\n",
       "       1734171008, 1734170447, 1734170366, 1734170311, 1734170121,\n",
       "       1734169828, 1734169350, 1734168836, 1734168444, 1734168212,\n",
       "       1734167410, 1734166755, 1734166525, 1734166397, 1734165951,\n",
       "       1734165455, 1734164557, 1734162596, 1734162370, 1734162182,\n",
       "       1734161822, 1734161629, 1734111053, 1734110260, 1734108097,\n",
       "       1734099309, 1734096510, 1734093932, 1734120954, 1734125966,\n",
       "       1734129475, 1734133721, 1734144252, 1734159373, 1734157196,\n",
       "       1734156514, 1734156122, 1734154932, 1734154640, 1734154459,\n",
       "       1734154425, 1734154352, 1734153770, 1734153475, 1734152344,\n",
       "       1734151809, 1734150682, 1734149972, 1734149000, 1734148777,\n",
       "       1734148171, 1734148055, 1734146446, 1734145619, 1734144953,\n",
       "       1734144689, 1734144257, 1734143531, 1734142651, 1734142614,\n",
       "       1734141569, 1734139779, 1734139641, 1734139500, 1734139396,\n",
       "       1734138956, 1734138000, 1734137494, 1734137300, 1734136201,\n",
       "       1734135610, 1734135495, 1734135067, 1734134467, 1734134013,\n",
       "       1734133879, 1734133871, 1734133547, 1734133408, 1734132764,\n",
       "       1734132667, 1734132455, 1734131478, 1734131320, 1734130719,\n",
       "       1734130519, 1734129547, 1734128993, 1734128971, 1734128549,\n",
       "       1734127441, 1734126432, 1734126425, 1734126154, 1734125958,\n",
       "       1734125838, 1734124773, 1734123866, 1734123391, 1734123031,\n",
       "       1734122166, 1734121819, 1734121590, 1734121539, 1734121091,\n",
       "       1734120866, 1734120189, 1734119106, 1734118846, 1734118733,\n",
       "       1734118098, 1734117747, 1734117246, 1734116751, 1734116505,\n",
       "       1734116475, 1734116065, 1734115124, 1734115112, 1734114726,\n",
       "       1734114577, 1734114537, 1734111832, 1734111208, 1734111178,\n",
       "       1734110801, 1734110641, 1734110370, 1734109642, 1734108422,\n",
       "       1734108292, 1734108029, 1734107615, 1734107505, 1734107484,\n",
       "       1734106847, 1734106418, 1734105754, 1734103479, 1734103098,\n",
       "       1734102670, 1734102463, 1734101402, 1734101386, 1734100237,\n",
       "       1734100146, 1734100125, 1734099735, 1734099370, 1734098627,\n",
       "       1734098362, 1734097649, 1734096842, 1734096435, 1734094920,\n",
       "       1734094251, 1734093740, 1734092696, 1734086352, 1734087694,\n",
       "       1734087415, 1734085849, 1734085215, 1734085072, 1734084645,\n",
       "       1734083251, 1734083230, 1734083089, 1734081500, 1734080758,\n",
       "       1734079285, 1734079120, 1734077792, 1734077638, 1734076960,\n",
       "       1734076575, 1734075293, 1734013729, 1734074770, 1734022481,\n",
       "       1734038397, 1734040163, 1734044911, 1734049885, 1734059274,\n",
       "       1734061351, 1734073817, 1734072954, 1734071158, 1734070953,\n",
       "       1734069416, 1734069046, 1734069012, 1734067627, 1734067237,\n",
       "       1734066653, 1734066368, 1734066244, 1734063903, 1734063812,\n",
       "       1734063035, 1734062966, 1734062327, 1734062213, 1734062021,\n",
       "       1734060946, 1734060743, 1734060166, 1734059847, 1734059435,\n",
       "       1734058596, 1734058478, 1734056781, 1734056118, 1734056057,\n",
       "       1734055788, 1734055753, 1734055632, 1734055074, 1734053603,\n",
       "       1734053137, 1734052957, 1734052872, 1734051617, 1734050998,\n",
       "       1734050713, 1734050206, 1734049989, 1734049678, 1734049643,\n",
       "       1734049634, 1734049138, 1734049059, 1734048781, 1734048585,\n",
       "       1734048190, 1734047729, 1734047539, 1734046916, 1734046854,\n",
       "       1734045869, 1734045838, 1734045668, 1734045537, 1734045453,\n",
       "       1734044549, 1734044092, 1734043567, 1734043026, 1734042403,\n",
       "       1734041599, 1734041502, 1734041441, 1734041176, 1734040843,\n",
       "       1734039319, 1734039279, 1734039202, 1734039187, 1734038862,\n",
       "       1734038761, 1734038339, 1734037672, 1734037228, 1734037193,\n",
       "       1734037049, 1734037017, 1734035618, 1734034931, 1734034813,\n",
       "       1734034442, 1734034339, 1734033762, 1734033719, 1734033254,\n",
       "       1734032904, 1734032370, 1734031543, 1734031493, 1734030549,\n",
       "       1734030042, 1734029938, 1734029616, 1734028276, 1734028054,\n",
       "       1734027681, 1734027663, 1734027558, 1734026340, 1734025687,\n",
       "       1734025196, 1734024746, 1734024697, 1734024405, 1734024270,\n",
       "       1734023534, 1734022522, 1734022058, 1734021121, 1734019707,\n",
       "       1734019645, 1734019604, 1734019482, 1734019438, 1734019239,\n",
       "       1734018558, 1734018121, 1734017574, 1734017261, 1734016849,\n",
       "       1734016500, 1734013947, 1734013941, 1734013418, 1734013050,\n",
       "       1734012687, 1734011928, 1734011700, 1734011238, 1734011192,\n",
       "       1734010231, 1734009687, 1734009598, 1734009563, 1734009434,\n",
       "       1734009332, 1734009176, 1734008804, 1734008581, 1734008291,\n",
       "       1734008141, 1734006057, 1734005427, 1734004945, 1734002921,\n",
       "       1734003015, 1734002823, 1734002235, 1734001313, 1734000627,\n",
       "       1734000330, 1734000162, 1733999355, 1733999023, 1733998892,\n",
       "       1733998691, 1733998445, 1733998295, 1733997281, 1733997245,\n",
       "       1733996525, 1733996433, 1733995678, 1733995467, 1733995407,\n",
       "       1733994792, 1733994315, 1733992683, 1733992656, 1733992221,\n",
       "       1733992196, 1733991959, 1733991854, 1733990594, 1733989798,\n",
       "       1733989239, 1733989162, 1733988849, 1733987927, 1733987749,\n",
       "       1733934413, 1733938123, 1733943509, 1733947180, 1733951245,\n",
       "       1733953900, 1733957768, 1733958065, 1733986822, 1733986566,\n",
       "       1733986109, 1733986031, 1733985669, 1733985627, 1733985586,\n",
       "       1733984406, 1733984214, 1733982962, 1733982217, 1733982028,\n",
       "       1733981930, 1733981301, 1733980931, 1733980745, 1733980257,\n",
       "       1733979840, 1733978986, 1733978506, 1733978234, 1733978018,\n",
       "       1733977632, 1733977059, 1733976824, 1733975702, 1733973945,\n",
       "       1733973174, 1733972858, 1733971713, 1733970649, 1733970608,\n",
       "       1733970441, 1733969836, 1733967821, 1733967675, 1733967336,\n",
       "       1733966160, 1733965943, 1733965492, 1733964628, 1733964400,\n",
       "       1733963889, 1733963150, 1733962681, 1733962107, 1733961806,\n",
       "       1733961239, 1733960715, 1733960700, 1733960206, 1733959849,\n",
       "       1733959466, 1733959352, 1733959197, 1733958150, 1733958073,\n",
       "       1733957881, 1733957552, 1733957462, 1733957422, 1733956291,\n",
       "       1733956241, 1733956038, 1733954736, 1733954415, 1733954101,\n",
       "       1733953320, 1733953060, 1733953003, 1733952976, 1733952793,\n",
       "       1733952661, 1733952420, 1733951731, 1733950815, 1733950355,\n",
       "       1733949360, 1733949169, 1733949032, 1733948475, 1733948034,\n",
       "       1733947789, 1733947591, 1733946568, 1733946257, 1733945946,\n",
       "       1733944946, 1733944837, 1733944439, 1733943712, 1733943701,\n",
       "       1733943341, 1733943233, 1733943062, 1733942212, 1733942189,\n",
       "       1733941578, 1733941558, 1733939450, 1733939255, 1733939227,\n",
       "       1733938989, 1733938768, 1733938540, 1733938181, 1733937363,\n",
       "       1733936803, 1733936544, 1733935436, 1733935422, 1733934731,\n",
       "       1733934600, 1733934277, 1733933766, 1733933569, 1733933406,\n",
       "       1733933299, 1733933117, 1733932746, 1733932606, 1733932601,\n",
       "       1733931108, 1733930375, 1733929811, 1733929748, 1733929232,\n",
       "       1733929089, 1733928347, 1733928271, 1733927990, 1733927759,\n",
       "       1733927463, 1733926417, 1733926295, 1733926014, 1733925140,\n",
       "       1733923940, 1733921588, 1733923443, 1733922305, 1733921705,\n",
       "       1733920460, 1733919529, 1733919506, 1733918472, 1733917709,\n",
       "       1733913773, 1733913734, 1733913696, 1733911577, 1733910847,\n",
       "       1733909792, 1733908919, 1733908888, 1733907595, 1733907520,\n",
       "       1733907010, 1733906427, 1733906367, 1733904308, 1733903792,\n",
       "       1733903657, 1733903312, 1733903093, 1733821675, 1733831214,\n",
       "       1733835370, 1733849620, 1733856268, 1733878030, 1733886829,\n",
       "       1733890741, 1733896283, 1733899070, 1733901901, 1733901764,\n",
       "       1733901297, 1733901254, 1733898889, 1733898598, 1733897401,\n",
       "       1733897221, 1733896634, 1733896376, 1733896331, 1733896232,\n",
       "       1733895624, 1733895495, 1733895248, 1733894960, 1733894151,\n",
       "       1733892157, 1733892057, 1733892017, 1733891666, 1733890702,\n",
       "       1733890613, 1733890057, 1733889400, 1733888477, 1733888382,\n",
       "       1733888303, 1733887308, 1733886961, 1733885775, 1733884797,\n",
       "       1733884522, 1733884504, 1733884468, 1733883277, 1733883179,\n",
       "       1733882907, 1733882655, 1733881374, 1733879957, 1733879563,\n",
       "       1733879452, 1733879425, 1733877613, 1733877603, 1733876819,\n",
       "       1733876730, 1733875337, 1733875299, 1733875289, 1733874283,\n",
       "       1733874000, 1733871894, 1733871791, 1733871723, 1733871497,\n",
       "       1733870947, 1733870903, 1733870829, 1733870502, 1733870477,\n",
       "       1733869994, 1733869136, 1733869129, 1733868387, 1733868241,\n",
       "       1733867896, 1733867561, 1733867251, 1733866836, 1733866804,\n",
       "       1733866714, 1733866243, 1733866151, 1733864857, 1733864365,\n",
       "       1733864356, 1733864321, 1733864005, 1733863469, 1733862886,\n",
       "       1733862538, 1733862409, 1733861603, 1733860994, 1733860763,\n",
       "       1733860689, 1733860321, 1733860140, 1733860124, 1733859689,\n",
       "       1733859647, 1733858861, 1733857769, 1733856558, 1733856390,\n",
       "       1733855734, 1733855373, 1733855256, 1733853297, 1733853202,\n",
       "       1733852876, 1733851240, 1733851007, 1733849795, 1733848190,\n",
       "       1733847353, 1733847255, 1733846906, 1733846365, 1733845297,\n",
       "       1733845128, 1733844947, 1733844873, 1733844346, 1733844326,\n",
       "       1733843872, 1733842371, 1733841530, 1733841160, 1733840930,\n",
       "       1733840486, 1733840251, 1733839849, 1733838910, 1733837120,\n",
       "       1733836593, 1733835484, 1733835447, 1733832689, 1733832316,\n",
       "       1733831794, 1733831091, 1733830029, 1733829121, 1733829019,\n",
       "       1733828672, 1733828221, 1733826836, 1733825946, 1733825860,\n",
       "       1733825405, 1733824900, 1733824517, 1733824129, 1733824017,\n",
       "       1733822901, 1733822828, 1733820119, 1733819785, 1733817948,\n",
       "       1733817708, 1733817370, 1733816603, 1733816489, 1733813481,\n",
       "       1733810661, 1733809877, 1733809245, 1733808516, 1733808089,\n",
       "       1733783324, 1733786833, 1733790732, 1733795997, 1733807055,\n",
       "       1733806797, 1733805724, 1733804855, 1733804644, 1733804560,\n",
       "       1733803709, 1733803437, 1733802977, 1733802768, 1733802040,\n",
       "       1733802030, 1733801522, 1733801033, 1733800825, 1733799742,\n",
       "       1733799205, 1733798942, 1733798867, 1733798243, 1733797798,\n",
       "       1733797265, 1733797131, 1733796914, 1733796842, 1733796625,\n",
       "       1733795861, 1733795822, 1733794623, 1733794379, 1733793933,\n",
       "       1733793786, 1733793775, 1733793676, 1733793673, 1733793592,\n",
       "       1733793464, 1733793357, 1733792571, 1733790854, 1733790520,\n",
       "       1733790370, 1733790338, 1733789215, 1733789140, 1733788595,\n",
       "       1733788439, 1733788060, 1733787764, 1733786727, 1733785861,\n",
       "       1733784754, 1733784552, 1733784501, 1733783852, 1733783663,\n",
       "       1733783251, 1733782195, 1733782061, 1733780957, 1733780929,\n",
       "       1733780646, 1733780497, 1733780448, 1733780218, 1733780052,\n",
       "       1733779520, 1733779308, 1733779110, 1733778827, 1733778154,\n",
       "       1733777792, 1733777030, 1733777008, 1733776992, 1733773244,\n",
       "       1733776538, 1733776190, 1733776063, 1733775438, 1733775411,\n",
       "       1733774981, 1733774841, 1733774373, 1733774364, 1733771646,\n",
       "       1733771164, 1733771131, 1733760709, 1733770949, 1733762163,\n",
       "       1733770760, 1733769972, 1733769826, 1733769823, 1733769673,\n",
       "       1733769520, 1733769180, 1734261688], dtype=int64)"
      ]
     },
     "execution_count": 267,
     "metadata": {},
     "output_type": "execute_result"
    }
   ],
   "source": [
    "iphone['Created'].unique()"
   ]
  },
  {
   "cell_type": "code",
   "execution_count": 268,
   "id": "de3c1603-4ec5-48b3-b8e8-d44b8f1ce3c1",
   "metadata": {},
   "outputs": [
    {
     "data": {
      "text/plain": [
       "0"
      ]
     },
     "execution_count": 268,
     "metadata": {},
     "output_type": "execute_result"
    }
   ],
   "source": [
    "iphone['Created'].isna().sum()  ## simply give the count the number of missing values."
   ]
  },
  {
   "cell_type": "code",
   "execution_count": 269,
   "id": "b05c1132-453e-45b3-8058-07969b38ee2d",
   "metadata": {},
   "outputs": [],
   "source": [
    "iphone['Created'] = pd.to_datetime(iphone['Created'],unit = 's' , errors='coerce')"
   ]
  },
  {
   "cell_type": "code",
   "execution_count": 270,
   "id": "52fa842f-cba7-4e26-af28-bd610a197850",
   "metadata": {},
   "outputs": [
    {
     "data": {
      "text/plain": [
       "0      2024-12-15 11:06:58\n",
       "1      2024-12-15 11:01:50\n",
       "2      2024-12-15 10:35:52\n",
       "3      2024-12-15 10:33:53\n",
       "4      2024-12-15 10:21:19\n",
       "               ...        \n",
       "9609   2024-12-11 00:01:29\n",
       "9669   2024-12-10 15:59:25\n",
       "9698   2024-12-10 10:33:56\n",
       "9708   2024-12-10 08:41:59\n",
       "9740   2024-12-10 03:02:22\n",
       "Name: Created, Length: 1480, dtype: datetime64[ns]"
      ]
     },
     "execution_count": 270,
     "metadata": {},
     "output_type": "execute_result"
    }
   ],
   "source": [
    "iphone['Created']"
   ]
  },
  {
   "cell_type": "code",
   "execution_count": 271,
   "id": "6696b0db-f6db-42dc-95af-994de082153e",
   "metadata": {},
   "outputs": [
    {
     "data": {
      "text/html": [
       "<div>\n",
       "<style scoped>\n",
       "    .dataframe tbody tr th:only-of-type {\n",
       "        vertical-align: middle;\n",
       "    }\n",
       "\n",
       "    .dataframe tbody tr th {\n",
       "        vertical-align: top;\n",
       "    }\n",
       "\n",
       "    .dataframe thead th {\n",
       "        text-align: right;\n",
       "    }\n",
       "</style>\n",
       "<table border=\"1\" class=\"dataframe\">\n",
       "  <thead>\n",
       "    <tr style=\"text-align: right;\">\n",
       "      <th></th>\n",
       "      <th>Title</th>\n",
       "      <th>Upvotes</th>\n",
       "      <th>Created</th>\n",
       "      <th>Text</th>\n",
       "      <th>Sentiment</th>\n",
       "      <th>Sentiment-Vader</th>\n",
       "    </tr>\n",
       "  </thead>\n",
       "  <tbody>\n",
       "    <tr>\n",
       "      <th>0</th>\n",
       "      <td>Messages sending as a contact rather than main...</td>\n",
       "      <td>1</td>\n",
       "      <td>2024-12-15 11:06:58</td>\n",
       "      <td>hi guys dads phone every often send dead grand...</td>\n",
       "      <td>-0.100000</td>\n",
       "      <td>Negative</td>\n",
       "    </tr>\n",
       "    <tr>\n",
       "      <th>1</th>\n",
       "      <td>SOS! When my ex sends me a message, it pops up...</td>\n",
       "      <td>1</td>\n",
       "      <td>2024-12-15 11:01:50</td>\n",
       "      <td>ex sent text came number happened times week h...</td>\n",
       "      <td>0.044239</td>\n",
       "      <td>Negative</td>\n",
       "    </tr>\n",
       "    <tr>\n",
       "      <th>2</th>\n",
       "      <td>I use to be able to have a YouTube video play ...</td>\n",
       "      <td>1</td>\n",
       "      <td>2024-12-15 10:35:52</td>\n",
       "      <td>siri wont play youtube videos instead pulls li...</td>\n",
       "      <td>0.000000</td>\n",
       "      <td>Negative</td>\n",
       "    </tr>\n",
       "    <tr>\n",
       "      <th>3</th>\n",
       "      <td>accidentally sent as text message</td>\n",
       "      <td>1</td>\n",
       "      <td>2024-12-15 10:33:53</td>\n",
       "      <td>talking someone messages long pressed message ...</td>\n",
       "      <td>-0.050000</td>\n",
       "      <td>Positive</td>\n",
       "    </tr>\n",
       "    <tr>\n",
       "      <th>4</th>\n",
       "      <td>Please help me fix my phone !!!</td>\n",
       "      <td>6</td>\n",
       "      <td>2024-12-15 10:21:19</td>\n",
       "      <td>phone model pro max update ive trying download...</td>\n",
       "      <td>0.038920</td>\n",
       "      <td>Positive</td>\n",
       "    </tr>\n",
       "  </tbody>\n",
       "</table>\n",
       "</div>"
      ],
      "text/plain": [
       "                                               Title  Upvotes  \\\n",
       "0  Messages sending as a contact rather than main...        1   \n",
       "1  SOS! When my ex sends me a message, it pops up...        1   \n",
       "2  I use to be able to have a YouTube video play ...        1   \n",
       "3                  accidentally sent as text message        1   \n",
       "4                    Please help me fix my phone !!!        6   \n",
       "\n",
       "              Created                                               Text  \\\n",
       "0 2024-12-15 11:06:58  hi guys dads phone every often send dead grand...   \n",
       "1 2024-12-15 11:01:50  ex sent text came number happened times week h...   \n",
       "2 2024-12-15 10:35:52  siri wont play youtube videos instead pulls li...   \n",
       "3 2024-12-15 10:33:53  talking someone messages long pressed message ...   \n",
       "4 2024-12-15 10:21:19  phone model pro max update ive trying download...   \n",
       "\n",
       "   Sentiment Sentiment-Vader  \n",
       "0  -0.100000        Negative  \n",
       "1   0.044239        Negative  \n",
       "2   0.000000        Negative  \n",
       "3  -0.050000        Positive  \n",
       "4   0.038920        Positive  "
      ]
     },
     "execution_count": 271,
     "metadata": {},
     "output_type": "execute_result"
    }
   ],
   "source": [
    "iphone.head()"
   ]
  },
  {
   "cell_type": "code",
   "execution_count": 272,
   "id": "e260f440-53f1-4a94-ad13-b3ae449d21f6",
   "metadata": {},
   "outputs": [],
   "source": [
    "from wordcloud import WordCloud"
   ]
  },
  {
   "cell_type": "code",
   "execution_count": 273,
   "id": "9b0d1ac4-f21a-4301-aa9f-972e817e159b",
   "metadata": {},
   "outputs": [],
   "source": [
    "wordcloud = WordCloud(width=800, height=400).generate(\" \".join(iphone['Text'])) # Most Frequent Words."
   ]
  },
  {
   "cell_type": "code",
   "execution_count": 274,
   "id": "7a47f3c1-8971-43f4-94f0-de1ca12db497",
   "metadata": {},
   "outputs": [],
   "source": [
    "import matplotlib.pyplot as plt"
   ]
  },
  {
   "cell_type": "code",
   "execution_count": 275,
   "id": "3c9e5bb3-601a-4366-982d-95aa06b3892e",
   "metadata": {},
   "outputs": [
    {
     "data": {
      "image/png": "[encoded data removed]",
      "text/plain": [
       "<Figure size 640x480 with 1 Axes>"
      ]
     },
     "metadata": {},
     "output_type": "display_data"
    }
   ],
   "source": [
    "plt.imshow(wordcloud, interpolation='bilinear')\n",
    "plt.show()"
   ]
  },
  {
   "cell_type": "markdown",
   "id": "c2f7b80b-98da-4986-bc84-e770472d2ace",
   "metadata": {},
   "source": [
    "## Wordcloud for Positive vs Negative Sentiments"
   ]
  },
  {
   "cell_type": "code",
   "execution_count": 276,
   "id": "3e8e0def-844f-4c7f-9446-a82b4bb2a3a8",
   "metadata": {},
   "outputs": [],
   "source": [
    "positive_reviews_count = len(iphone[iphone['Sentiment-Vader'] == 'Positive'])\n",
    "negative_reviews_count = len(iphone[iphone['Sentiment-Vader'] == 'Negative'])"
   ]
  },
  {
   "cell_type": "code",
   "execution_count": 277,
   "id": "7b21770f-3fb4-4f0d-95bb-0b6132aeb1d0",
   "metadata": {},
   "outputs": [
    {
     "data": {
      "text/plain": [
       "745"
      ]
     },
     "execution_count": 277,
     "metadata": {},
     "output_type": "execute_result"
    }
   ],
   "source": [
    "positive_reviews_count"
   ]
  },
  {
   "cell_type": "code",
   "execution_count": 278,
   "id": "ce073f36-4fc5-4d87-a0b3-a489e9b4e0cd",
   "metadata": {},
   "outputs": [
    {
     "data": {
      "text/plain": [
       "356"
      ]
     },
     "execution_count": 278,
     "metadata": {},
     "output_type": "execute_result"
    }
   ],
   "source": [
    "negative_reviews_count"
   ]
  },
  {
   "cell_type": "code",
   "execution_count": 279,
   "id": "a1ed4ee5-9c3c-4988-8d0c-5ece7aab2a78",
   "metadata": {},
   "outputs": [],
   "source": [
    "### Positive and negative review text\n",
    "positive_reviews = ' '.join(iphone[iphone['Sentiment-Vader'] == 'Positive']['Text'])\n",
    "negative_reviews = ' '.join(iphone[iphone['Sentiment-Vader'] == 'Negative']['Text'])"
   ]
  },
  {
   "cell_type": "code",
   "execution_count": 280,
   "id": "687552c2-a551-4427-8644-a6c10dc73843",
   "metadata": {},
   "outputs": [],
   "source": [
    "## Generating wordcloud\n",
    "positive_wordcloud = WordCloud(width=800, height=400, background_color='white').generate(positive_reviews)\n",
    "negative_wordcloud = WordCloud(width=800, height=400, background_color='white').generate(negative_reviews)"
   ]
  },
  {
   "cell_type": "code",
   "execution_count": 281,
   "id": "de32b2cb-cd1d-4cb3-b16e-1d151f6a3ccf",
   "metadata": {},
   "outputs": [
    {
     "data": {
      "image/png": "[encoded data removed]",
      "text/plain": [
       "<Figure size 1200x600 with 2 Axes>"
      ]
     },
     "metadata": {},
     "output_type": "display_data"
    }
   ],
   "source": [
    "## plotting.\n",
    "plt.figure(figsize=(12, 6))\n",
    "plt.subplot(1, 2, 1)\n",
    "plt.imshow(positive_wordcloud, interpolation='bilinear')\n",
    "plt.title('Positive Sentiment WordCloud')\n",
    "\n",
    "plt.subplot(1, 2, 2)\n",
    "plt.imshow(negative_wordcloud, interpolation='bilinear')\n",
    "plt.title('Negative Sentiment WordCloud')\n",
    "plt.show()"
   ]
  },
  {
   "cell_type": "code",
   "execution_count": 282,
   "id": "a0fc36cb-c6d1-4c72-8867-420769e92164",
   "metadata": {},
   "outputs": [
    {
     "data": {
      "text/plain": [
       "Index(['Title', 'Upvotes', 'Created', 'Text', 'Sentiment', 'Sentiment-Vader'], dtype='object')"
      ]
     },
     "execution_count": 282,
     "metadata": {},
     "output_type": "execute_result"
    }
   ],
   "source": [
    "iphone.columns"
   ]
  },
  {
   "cell_type": "code",
   "execution_count": 283,
   "id": "350c7804-dc72-4594-a6c3-dc2e9860faa9",
   "metadata": {},
   "outputs": [],
   "source": [
    "## another function defined"
   ]
  },
  {
   "cell_type": "code",
   "execution_count": 284,
   "id": "2206635e-35a3-4abf-96b2-483a69e36dce",
   "metadata": {},
   "outputs": [],
   "source": [
    "def get_sentiment(text):\n",
    "    blob = TextBlob(text)\n",
    "    polarity = blob.sentiment.polarity\n",
    "\n",
    "    if polarity > 0:\n",
    "        return 'Positive'\n",
    "    elif polarity < 0:\n",
    "        return 'Negative'\n",
    "    else:\n",
    "        return 'Neutral'"
   ]
  },
  {
   "cell_type": "code",
   "execution_count": 285,
   "id": "7fe26d92-0704-42ab-9f0b-4c547cd274e7",
   "metadata": {},
   "outputs": [],
   "source": [
    "iphone.loc[:, 'Sentiment-TB'] = iphone['Text'].apply(lambda x: get_sentiment(x))"
   ]
  },
  {
   "cell_type": "code",
   "execution_count": 286,
   "id": "e273b5ef-eb66-4429-943e-267f4ac51545",
   "metadata": {},
   "outputs": [
    {
     "data": {
      "text/html": [
       "<div>\n",
       "<style scoped>\n",
       "    .dataframe tbody tr th:only-of-type {\n",
       "        vertical-align: middle;\n",
       "    }\n",
       "\n",
       "    .dataframe tbody tr th {\n",
       "        vertical-align: top;\n",
       "    }\n",
       "\n",
       "    .dataframe thead th {\n",
       "        text-align: right;\n",
       "    }\n",
       "</style>\n",
       "<table border=\"1\" class=\"dataframe\">\n",
       "  <thead>\n",
       "    <tr style=\"text-align: right;\">\n",
       "      <th></th>\n",
       "      <th>Title</th>\n",
       "      <th>Upvotes</th>\n",
       "      <th>Created</th>\n",
       "      <th>Text</th>\n",
       "      <th>Sentiment</th>\n",
       "      <th>Sentiment-Vader</th>\n",
       "      <th>Sentiment-TB</th>\n",
       "    </tr>\n",
       "  </thead>\n",
       "  <tbody>\n",
       "    <tr>\n",
       "      <th>0</th>\n",
       "      <td>Messages sending as a contact rather than main...</td>\n",
       "      <td>1</td>\n",
       "      <td>2024-12-15 11:06:58</td>\n",
       "      <td>hi guys dads phone every often send dead grand...</td>\n",
       "      <td>-0.100000</td>\n",
       "      <td>Negative</td>\n",
       "      <td>Negative</td>\n",
       "    </tr>\n",
       "    <tr>\n",
       "      <th>1</th>\n",
       "      <td>SOS! When my ex sends me a message, it pops up...</td>\n",
       "      <td>1</td>\n",
       "      <td>2024-12-15 11:01:50</td>\n",
       "      <td>ex sent text came number happened times week h...</td>\n",
       "      <td>0.044239</td>\n",
       "      <td>Negative</td>\n",
       "      <td>Negative</td>\n",
       "    </tr>\n",
       "    <tr>\n",
       "      <th>2</th>\n",
       "      <td>I use to be able to have a YouTube video play ...</td>\n",
       "      <td>1</td>\n",
       "      <td>2024-12-15 10:35:52</td>\n",
       "      <td>siri wont play youtube videos instead pulls li...</td>\n",
       "      <td>0.000000</td>\n",
       "      <td>Negative</td>\n",
       "      <td>Neutral</td>\n",
       "    </tr>\n",
       "    <tr>\n",
       "      <th>3</th>\n",
       "      <td>accidentally sent as text message</td>\n",
       "      <td>1</td>\n",
       "      <td>2024-12-15 10:33:53</td>\n",
       "      <td>talking someone messages long pressed message ...</td>\n",
       "      <td>-0.050000</td>\n",
       "      <td>Positive</td>\n",
       "      <td>Negative</td>\n",
       "    </tr>\n",
       "    <tr>\n",
       "      <th>4</th>\n",
       "      <td>Please help me fix my phone !!!</td>\n",
       "      <td>6</td>\n",
       "      <td>2024-12-15 10:21:19</td>\n",
       "      <td>phone model pro max update ive trying download...</td>\n",
       "      <td>0.038920</td>\n",
       "      <td>Positive</td>\n",
       "      <td>Positive</td>\n",
       "    </tr>\n",
       "  </tbody>\n",
       "</table>\n",
       "</div>"
      ],
      "text/plain": [
       "                                               Title  Upvotes  \\\n",
       "0  Messages sending as a contact rather than main...        1   \n",
       "1  SOS! When my ex sends me a message, it pops up...        1   \n",
       "2  I use to be able to have a YouTube video play ...        1   \n",
       "3                  accidentally sent as text message        1   \n",
       "4                    Please help me fix my phone !!!        6   \n",
       "\n",
       "              Created                                               Text  \\\n",
       "0 2024-12-15 11:06:58  hi guys dads phone every often send dead grand...   \n",
       "1 2024-12-15 11:01:50  ex sent text came number happened times week h...   \n",
       "2 2024-12-15 10:35:52  siri wont play youtube videos instead pulls li...   \n",
       "3 2024-12-15 10:33:53  talking someone messages long pressed message ...   \n",
       "4 2024-12-15 10:21:19  phone model pro max update ive trying download...   \n",
       "\n",
       "   Sentiment Sentiment-Vader Sentiment-TB  \n",
       "0  -0.100000        Negative     Negative  \n",
       "1   0.044239        Negative     Negative  \n",
       "2   0.000000        Negative      Neutral  \n",
       "3  -0.050000        Positive     Negative  \n",
       "4   0.038920        Positive     Positive  "
      ]
     },
     "execution_count": 286,
     "metadata": {},
     "output_type": "execute_result"
    }
   ],
   "source": [
    "iphone.head()"
   ]
  },
  {
   "cell_type": "code",
   "execution_count": 287,
   "id": "74c95d91-ab4c-4d6f-ba89-c0bf91e58045",
   "metadata": {},
   "outputs": [
    {
     "data": {
      "text/plain": [
       "Sentiment-TB\n",
       "Positive    670\n",
       "Negative    411\n",
       "Neutral     399\n",
       "Name: count, dtype: int64"
      ]
     },
     "execution_count": 287,
     "metadata": {},
     "output_type": "execute_result"
    }
   ],
   "source": [
    "iphone['Sentiment-TB'].value_counts()"
   ]
  },
  {
   "cell_type": "code",
   "execution_count": 288,
   "id": "d0163c51-9c8b-42f4-99fb-44d7316f4c39",
   "metadata": {},
   "outputs": [
    {
     "data": {
      "text/plain": [
       "<Axes: xlabel='Sentiment-TB'>"
      ]
     },
     "execution_count": 288,
     "metadata": {},
     "output_type": "execute_result"
    },
    {
     "data": {
      "image/png": "[encoded data removed]",
      "text/plain": [
       "<Figure size 640x480 with 1 Axes>"
      ]
     },
     "metadata": {},
     "output_type": "display_data"
    }
   ],
   "source": [
    "iphone['Sentiment-TB'].value_counts().plot(kind='bar')"
   ]
  },
  {
   "cell_type": "code",
   "execution_count": 289,
   "id": "ab58cd22-97d6-49ca-a581-6e80b0052b9f",
   "metadata": {},
   "outputs": [],
   "source": [
    "## For Comparison in between them "
   ]
  },
  {
   "cell_type": "code",
   "execution_count": 290,
   "id": "fac2e985-2366-434f-945a-eb70f465d5f3",
   "metadata": {},
   "outputs": [
    {
     "data": {
      "image/png": "[encoded data removed]",
      "text/plain": [
       "<Figure size 1000x500 with 2 Axes>"
      ]
     },
     "metadata": {},
     "output_type": "display_data"
    }
   ],
   "source": [
    "plt.figure(figsize=(10, 5))\n",
    "\n",
    "# for VADER \n",
    "plt.subplot(1, 2, 1)\n",
    "iphone['Sentiment-Vader'].value_counts().plot(kind='bar', color='skyblue')\n",
    "plt.title('VADER Sentiment Distribution')\n",
    "plt.xlabel('Sentiments')\n",
    "plt.ylabel('Count')\n",
    "\n",
    "# for TextBlob\n",
    "plt.subplot(1, 2, 2)\n",
    "iphone['Sentiment-TB'].value_counts().plot(kind='bar', color='salmon')\n",
    "plt.title('TextBlob Sentiment Distribution')\n",
    "plt.xlabel('Sentiments')\n",
    "plt.ylabel('Count')\n",
    "plt.tight_layout()\n",
    "plt.show()"
   ]
  },
  {
   "cell_type": "code",
   "execution_count": 291,
   "id": "f1cb4c1e-f207-4f19-9ef1-12b101227b53",
   "metadata": {},
   "outputs": [],
   "source": [
    "## Comparsion by taking a dataset."
   ]
  },
  {
   "cell_type": "code",
   "execution_count": 292,
   "id": "15bf6627-04ae-4daa-b0dd-3640cd393c4e",
   "metadata": {},
   "outputs": [],
   "source": [
    "data = {\n",
    "    'Text': [\n",
    "        \"I love my new iPhone! The camera is amazing.\",\n",
    "        \"The battery life is terrible.\",\n",
    "        \"I just got the iPhone 15, and it's okay.\",\n",
    "        \"iPhone 14 is the best phone I’ve ever had.\",\n",
    "        \"The new iPhone is so slow!\",\n",
    "        \"I am very disappointed with my new iPhone.\",\n",
    "        \"iPhone is perfect, I can’t wait to get it!\",\n",
    "        \"This phone is awful. Never buying an iPhone again.\",\n",
    "        \"I am neutral about the new iPhone.\",\n",
    "        \"Love the design, but the price is too high.\",\n",
    "        \"The camera is fantastic, but the phone is fragile.\",\n",
    "        \"I'm not a fan of iPhone anymore.\",\n",
    "        \"This is a decent iPhone, but nothing groundbreaking.\",\n",
    "        \"I have mixed feelings about the iPhone 13.\",\n",
    "        \"I love the iPhone, but the battery could be better.\",\n",
    "        \"iPhones are overrated, and I don’t get the hype.\",\n",
    "        \"The iPhone's build quality is amazing.\",\n",
    "        \"I’m excited to get the new iPhone next month.\",\n",
    "        \"The new iPhone is good, but it’s not worth the price.\",\n",
    "        \"I dislike the new iPhone update.\",\n",
    "        \"This iPhone is incredible!\",\n",
    "        \"Just got my iPhone and I’m loving it.\",\n",
    "        \"The camera quality is awesome, but the phone is fragile.\",\n",
    "        \"I hate the new iPhone features.\",\n",
    "        \"I’ve always been a fan of iPhones, and this is no exception.\",\n",
    "        \"The screen on the iPhone is amazing.\",\n",
    "        \"iPhone 13 Pro Max is the best phone out there.\",\n",
    "        \"I’m not happy with the iPhone I purchased.\",\n",
    "        \"I love the new iPhone design, but the performance is bad.\",\n",
    "        \"Very satisfied with my new iPhone!\",\n",
    "        \"The new iPhone is a disappointment.\",\n",
    "        \"Not impressed with iPhone 14.\",\n",
    "        \"iPhone is so much better than other phones.\",\n",
    "        \"The new iPhone is way too heavy.\",\n",
    "        \"I prefer other phones over iPhone.\",\n",
    "        \"iPhone is overpriced, but I love the ecosystem.\",\n",
    "        \"I don't think iPhones are worth the price.\",\n",
    "        \"I’m in love with the new iPhone’s speed.\",\n",
    "        \"The iPhone feels outdated compared to other phones.\",\n",
    "        \"The latest iPhone has an excellent camera.\",\n",
    "        \"I think the iPhone is a bit overrated.\",\n",
    "        \"iPhone is a great phone, but the battery is poor.\",\n",
    "        \"The latest iPhone is really fast!\",\n",
    "        \"I would never recommend the iPhone 13 to anyone.\",\n",
    "        \"The iPhone’s battery life is just awful.\",\n",
    "        \"I think the new iPhone is overpriced.\",\n",
    "        \"I love everything about the iPhone, except the camera.\",\n",
    "        \"The iPhone has such a sleek design.\",\n",
    "        \"iPhone’s operating system is the best.\",\n",
    "        \"I can’t get enough of my iPhone.\",\n",
    "        \"iPhone’s camera quality is the best in the market.\",\n",
    "    ]}"
   ]
  },
  {
   "cell_type": "code",
   "execution_count": 293,
   "id": "e648dc29-a104-4e19-a800-4d18ead5ee9b",
   "metadata": {},
   "outputs": [],
   "source": [
    "df = pd.DataFrame(data)"
   ]
  },
  {
   "cell_type": "code",
   "execution_count": 294,
   "id": "eb820dbd-99d6-49e2-a2e0-48871f6b6330",
   "metadata": {},
   "outputs": [],
   "source": [
    "df['TextBlob Sentiment'] = df['Text'].apply(get_sentiment)  # By textblob"
   ]
  },
  {
   "cell_type": "code",
   "execution_count": 295,
   "id": "d813ccc1-3274-4ee8-9114-03b6322bb200",
   "metadata": {},
   "outputs": [],
   "source": [
    "df['VADER Sentiment'] = df['Text'].apply(lambda x: assign_sentiment(iphone_ana.polarity_scores(x)['compound'])) # by vader."
   ]
  },
  {
   "cell_type": "code",
   "execution_count": 296,
   "id": "d345403f-5300-41ea-a322-e557f3db0e52",
   "metadata": {},
   "outputs": [
    {
     "data": {
      "text/html": [
       "<div>\n",
       "<style scoped>\n",
       "    .dataframe tbody tr th:only-of-type {\n",
       "        vertical-align: middle;\n",
       "    }\n",
       "\n",
       "    .dataframe tbody tr th {\n",
       "        vertical-align: top;\n",
       "    }\n",
       "\n",
       "    .dataframe thead th {\n",
       "        text-align: right;\n",
       "    }\n",
       "</style>\n",
       "<table border=\"1\" class=\"dataframe\">\n",
       "  <thead>\n",
       "    <tr style=\"text-align: right;\">\n",
       "      <th></th>\n",
       "      <th>Text</th>\n",
       "      <th>TextBlob Sentiment</th>\n",
       "      <th>VADER Sentiment</th>\n",
       "    </tr>\n",
       "  </thead>\n",
       "  <tbody>\n",
       "    <tr>\n",
       "      <th>0</th>\n",
       "      <td>I love my new iPhone! The camera is amazing.</td>\n",
       "      <td>Positive</td>\n",
       "      <td>Positive</td>\n",
       "    </tr>\n",
       "    <tr>\n",
       "      <th>1</th>\n",
       "      <td>The battery life is terrible.</td>\n",
       "      <td>Negative</td>\n",
       "      <td>Negative</td>\n",
       "    </tr>\n",
       "    <tr>\n",
       "      <th>2</th>\n",
       "      <td>I just got the iPhone 15, and it's okay.</td>\n",
       "      <td>Positive</td>\n",
       "      <td>Positive</td>\n",
       "    </tr>\n",
       "    <tr>\n",
       "      <th>3</th>\n",
       "      <td>iPhone 14 is the best phone I’ve ever had.</td>\n",
       "      <td>Positive</td>\n",
       "      <td>Positive</td>\n",
       "    </tr>\n",
       "    <tr>\n",
       "      <th>4</th>\n",
       "      <td>The new iPhone is so slow!</td>\n",
       "      <td>Negative</td>\n",
       "      <td>Neutral</td>\n",
       "    </tr>\n",
       "  </tbody>\n",
       "</table>\n",
       "</div>"
      ],
      "text/plain": [
       "                                           Text TextBlob Sentiment  \\\n",
       "0  I love my new iPhone! The camera is amazing.           Positive   \n",
       "1                 The battery life is terrible.           Negative   \n",
       "2      I just got the iPhone 15, and it's okay.           Positive   \n",
       "3    iPhone 14 is the best phone I’ve ever had.           Positive   \n",
       "4                    The new iPhone is so slow!           Negative   \n",
       "\n",
       "  VADER Sentiment  \n",
       "0        Positive  \n",
       "1        Negative  \n",
       "2        Positive  \n",
       "3        Positive  \n",
       "4         Neutral  "
      ]
     },
     "execution_count": 296,
     "metadata": {},
     "output_type": "execute_result"
    }
   ],
   "source": [
    "df.head()"
   ]
  },
  {
   "cell_type": "code",
   "execution_count": 297,
   "id": "0f7d1f90-37d6-4790-952c-1bdb0baed6fb",
   "metadata": {},
   "outputs": [],
   "source": [
    "## Now compare the preiction of both VADER and TextBlob"
   ]
  },
  {
   "cell_type": "code",
   "execution_count": 298,
   "id": "cfdc57f4-aef0-4e0b-b04d-9ff7d14d1032",
   "metadata": {},
   "outputs": [],
   "source": [
    "df['comparison'] = df['TextBlob Sentiment'] == df['VADER Sentiment']"
   ]
  },
  {
   "cell_type": "code",
   "execution_count": 299,
   "id": "db230ec8-eeda-4e1f-a153-5e099353f41e",
   "metadata": {},
   "outputs": [
    {
     "data": {
      "text/plain": [
       "72.54901960784314"
      ]
     },
     "execution_count": 299,
     "metadata": {},
     "output_type": "execute_result"
    }
   ],
   "source": [
    "comparison_percentage = df['comparison'].mean() * 100    ## we see over this data in 72.54 % times they predict they same sentiment.\n",
    "comparison_percentage"
   ]
  },
  {
   "cell_type": "code",
   "execution_count": 300,
   "id": "b44fdaf5-556e-4520-be61-2a2c2481bb9a",
   "metadata": {},
   "outputs": [],
   "source": [
    "## Now check over the iphone dataset."
   ]
  },
  {
   "cell_type": "code",
   "execution_count": 301,
   "id": "5df13918-ea5e-4acc-b993-14bea4b75fe5",
   "metadata": {},
   "outputs": [],
   "source": [
    "iphone.loc[:, 'comparison'] = iphone['Sentiment-Vader'] == iphone['Sentiment-TB']"
   ]
  },
  {
   "cell_type": "code",
   "execution_count": 302,
   "id": "7483cbba-ba73-474f-a271-67f18824f470",
   "metadata": {},
   "outputs": [
    {
     "data": {
      "text/plain": [
       "64.66216216216216"
      ]
     },
     "execution_count": 302,
     "metadata": {},
     "output_type": "execute_result"
    }
   ],
   "source": [
    "comparison_percentage = iphone['comparison'].mean() * 100\n",
    "comparison_percentage"
   ]
  },
  {
   "cell_type": "code",
   "execution_count": 303,
   "id": "df19f76b-389b-429f-83a2-23fc1e50e38e",
   "metadata": {},
   "outputs": [],
   "source": [
    "## in iphone dataset over 52.43% both Vader and TextBolb predicting the same sentiments."
   ]
  },
  {
   "cell_type": "code",
   "execution_count": 304,
   "id": "b7d65829-9d63-4dc0-ba33-870f01f1788a",
   "metadata": {},
   "outputs": [],
   "source": [
    "## we can check accuracy also over the Labelled dataset, we alreay have an idea of True sentiments."
   ]
  },
  {
   "cell_type": "code",
   "execution_count": 305,
   "id": "3b5082d9-fa77-4e80-a786-71a336e273c7",
   "metadata": {},
   "outputs": [],
   "source": [
    "from sklearn.metrics import accuracy_score"
   ]
  },
  {
   "cell_type": "code",
   "execution_count": 306,
   "id": "06ba1df9-27a1-44f1-9bed-3ef97b48eda8",
   "metadata": {},
   "outputs": [],
   "source": [
    "data = {\n",
    "    'Text': [\n",
    "        \"I love my new iPhone! The camera is amazing.\",\n",
    "        \"The battery life is terrible.\",\n",
    "        \"I just got the iPhone 15, and it's okay.\",\n",
    "        \"iPhone 14 is the best phone I’ve ever had.\",\n",
    "        \"The new iPhone is so slow!\",\n",
    "        \"I am very disappointed with my new iPhone.\",\n",
    "        \"iPhone is perfect, I can’t wait to get it!\",\n",
    "        \"This phone is awful. Never buying an iPhone again.\",\n",
    "        \"I am neutral about the new iPhone.\",\n",
    "        \"Love the design, but the price is too high.\",\n",
    "        \"The camera is fantastic, but the phone is fragile.\",\n",
    "        \"I'm not a fan of iPhone anymore.\",\n",
    "        \"This is a decent iPhone, but nothing groundbreaking.\",\n",
    "        \"I have mixed feelings about the iPhone 13.\",\n",
    "        \"I love the iPhone, but the battery could be better.\",\n",
    "        \"iPhones are overrated, and I don’t get the hype.\",\n",
    "        \"The iPhone's build quality is amazing.\",\n",
    "        \"I’m excited to get the new iPhone next month.\",\n",
    "        \"The new iPhone is good, but it’s not worth the price.\",\n",
    "        \"I dislike the new iPhone update.\",\n",
    "        \"This iPhone is incredible!\",\n",
    "        \"Just got my iPhone and I’m loving it.\",\n",
    "        \"The camera quality is awesome, but the phone is fragile.\",\n",
    "        \"I hate the new iPhone features.\",\n",
    "        \"I’ve always been a fan of iPhones, and this is no exception.\",\n",
    "        \"The screen on the iPhone is amazing.\",\n",
    "        \"iPhone 13 Pro Max is the best phone out there.\",\n",
    "        \"I’m not happy with the iPhone I purchased.\",\n",
    "        \"I love the new iPhone design, but the performance is bad.\",\n",
    "        \"Very satisfied with my new iPhone!\",\n",
    "        \"The new iPhone is a disappointment.\",\n",
    "        \"Not impressed with iPhone 14.\",\n",
    "        \"iPhone is so much better than other phones.\",\n",
    "        \"The new iPhone is way too heavy.\",\n",
    "        \"I prefer other phones over iPhone.\",\n",
    "        \"iPhone is overpriced, but I love the ecosystem.\",\n",
    "        \"I don't think iPhones are worth the price.\",\n",
    "        \"I’m in love with the new iPhone’s speed.\",\n",
    "        \"The iPhone feels outdated compared to other phones.\",\n",
    "        \"The latest iPhone has an excellent camera.\",\n",
    "        \"I think the iPhone is a bit overrated.\",\n",
    "        \"iPhone is a great phone, but the battery is poor.\",\n",
    "        \"The latest iPhone is really fast!\",\n",
    "        \"I would never recommend the iPhone 13 to anyone.\",\n",
    "        \"The iPhone’s battery life is just awful.\",\n",
    "        \"I think the new iPhone is overpriced.\",\n",
    "        \"I love everything about the iPhone, except the camera.\",\n",
    "        \"The iPhone has such a sleek design.\",\n",
    "        \"iPhone’s operating system is the best.\",\n",
    "        \"I can’t get enough of my iPhone.\",\n",
    "        \"iPhone’s camera quality is the best in the market.\",\n",
    "    ],\n",
    "    'True Sentiment': [\n",
    "        'Positive', 'Negative', 'Neutral', 'Positive', 'Negative', 'Negative', 'Positive', 'Negative', 'Neutral', \n",
    "        'Neutral', 'Neutral', 'Negative', 'Neutral', 'Neutral', 'Negative', 'Negative', 'Positive', 'Neutral', \n",
    "        'Negative', 'Positive', 'Positive', 'Negative', 'Negative', 'Negative', 'Positive', 'Positive', 'Positive', \n",
    "        'Neutral', 'Negative', 'Positive', 'Negative', 'Neutral', 'Positive', 'Negative', 'Negative', 'Neutral', \n",
    "        'Negative', 'Positive', 'Negative', 'Positive', 'Negative', 'Negative', 'Neutral', 'Negative', 'Negative', \n",
    "        'Positive', 'Negative', 'Neutral', 'Neutral', 'Positive', 'Neutral'\n",
    "    ]\n",
    "}"
   ]
  },
  {
   "cell_type": "code",
   "execution_count": 307,
   "id": "4317d274-b325-4020-bb26-61037173bfbc",
   "metadata": {},
   "outputs": [],
   "source": [
    "df = pd.DataFrame(data)\n",
    "df['Sentiment-TB'] = df['Text'].apply(get_sentiment)  # By textblob\n",
    "df['Sentiment-Vader'] = df['Text'].apply(lambda x: assign_sentiment(iphone_ana.polarity_scores(x)['compound'])) # by vader."
   ]
  },
  {
   "cell_type": "code",
   "execution_count": 308,
   "id": "0e8da1a3-a75f-4876-b7ee-b5ab32c7a4df",
   "metadata": {},
   "outputs": [
    {
     "name": "stdout",
     "output_type": "stream",
     "text": [
      "VADER Accuracy: 0.49\n",
      "TextBlob Accuracy: 0.51\n"
     ]
    }
   ],
   "source": [
    "vader_accuracy = accuracy_score(df['True Sentiment'], df['Sentiment-Vader'])\n",
    "print(f\"VADER Accuracy: {vader_accuracy:.2f}\")\n",
    "\n",
    "textblob_accuracy = accuracy_score(df['True Sentiment'], df['Sentiment-TB'])\n",
    "print(f\"TextBlob Accuracy: {textblob_accuracy:.2f}\")"
   ]
  },
  {
   "cell_type": "code",
   "execution_count": 309,
   "id": "7ba48a9e-6b01-4ebe-bd97-4b623d553638",
   "metadata": {},
   "outputs": [],
   "source": [
    "## we find that both are performing equally but not well."
   ]
  },
  {
   "cell_type": "code",
   "execution_count": 310,
   "id": "a93ad52a-6ab1-459f-8ff1-75efdb47945f",
   "metadata": {},
   "outputs": [
    {
     "data": {
      "text/html": [
       "<div>\n",
       "<style scoped>\n",
       "    .dataframe tbody tr th:only-of-type {\n",
       "        vertical-align: middle;\n",
       "    }\n",
       "\n",
       "    .dataframe tbody tr th {\n",
       "        vertical-align: top;\n",
       "    }\n",
       "\n",
       "    .dataframe thead th {\n",
       "        text-align: right;\n",
       "    }\n",
       "</style>\n",
       "<table border=\"1\" class=\"dataframe\">\n",
       "  <thead>\n",
       "    <tr style=\"text-align: right;\">\n",
       "      <th></th>\n",
       "      <th>Title</th>\n",
       "      <th>Upvotes</th>\n",
       "      <th>Created</th>\n",
       "      <th>Text</th>\n",
       "      <th>Sentiment</th>\n",
       "      <th>Sentiment-Vader</th>\n",
       "      <th>Sentiment-TB</th>\n",
       "      <th>comparison</th>\n",
       "    </tr>\n",
       "  </thead>\n",
       "  <tbody>\n",
       "    <tr>\n",
       "      <th>0</th>\n",
       "      <td>Messages sending as a contact rather than main...</td>\n",
       "      <td>1</td>\n",
       "      <td>2024-12-15 11:06:58</td>\n",
       "      <td>hi guys dads phone every often send dead grand...</td>\n",
       "      <td>-0.100000</td>\n",
       "      <td>Negative</td>\n",
       "      <td>Negative</td>\n",
       "      <td>True</td>\n",
       "    </tr>\n",
       "    <tr>\n",
       "      <th>1</th>\n",
       "      <td>SOS! When my ex sends me a message, it pops up...</td>\n",
       "      <td>1</td>\n",
       "      <td>2024-12-15 11:01:50</td>\n",
       "      <td>ex sent text came number happened times week h...</td>\n",
       "      <td>0.044239</td>\n",
       "      <td>Negative</td>\n",
       "      <td>Negative</td>\n",
       "      <td>True</td>\n",
       "    </tr>\n",
       "    <tr>\n",
       "      <th>2</th>\n",
       "      <td>I use to be able to have a YouTube video play ...</td>\n",
       "      <td>1</td>\n",
       "      <td>2024-12-15 10:35:52</td>\n",
       "      <td>siri wont play youtube videos instead pulls li...</td>\n",
       "      <td>0.000000</td>\n",
       "      <td>Negative</td>\n",
       "      <td>Neutral</td>\n",
       "      <td>False</td>\n",
       "    </tr>\n",
       "    <tr>\n",
       "      <th>3</th>\n",
       "      <td>accidentally sent as text message</td>\n",
       "      <td>1</td>\n",
       "      <td>2024-12-15 10:33:53</td>\n",
       "      <td>talking someone messages long pressed message ...</td>\n",
       "      <td>-0.050000</td>\n",
       "      <td>Positive</td>\n",
       "      <td>Negative</td>\n",
       "      <td>False</td>\n",
       "    </tr>\n",
       "    <tr>\n",
       "      <th>4</th>\n",
       "      <td>Please help me fix my phone !!!</td>\n",
       "      <td>6</td>\n",
       "      <td>2024-12-15 10:21:19</td>\n",
       "      <td>phone model pro max update ive trying download...</td>\n",
       "      <td>0.038920</td>\n",
       "      <td>Positive</td>\n",
       "      <td>Positive</td>\n",
       "      <td>True</td>\n",
       "    </tr>\n",
       "  </tbody>\n",
       "</table>\n",
       "</div>"
      ],
      "text/plain": [
       "                                               Title  Upvotes  \\\n",
       "0  Messages sending as a contact rather than main...        1   \n",
       "1  SOS! When my ex sends me a message, it pops up...        1   \n",
       "2  I use to be able to have a YouTube video play ...        1   \n",
       "3                  accidentally sent as text message        1   \n",
       "4                    Please help me fix my phone !!!        6   \n",
       "\n",
       "              Created                                               Text  \\\n",
       "0 2024-12-15 11:06:58  hi guys dads phone every often send dead grand...   \n",
       "1 2024-12-15 11:01:50  ex sent text came number happened times week h...   \n",
       "2 2024-12-15 10:35:52  siri wont play youtube videos instead pulls li...   \n",
       "3 2024-12-15 10:33:53  talking someone messages long pressed message ...   \n",
       "4 2024-12-15 10:21:19  phone model pro max update ive trying download...   \n",
       "\n",
       "   Sentiment Sentiment-Vader Sentiment-TB  comparison  \n",
       "0  -0.100000        Negative     Negative        True  \n",
       "1   0.044239        Negative     Negative        True  \n",
       "2   0.000000        Negative      Neutral       False  \n",
       "3  -0.050000        Positive     Negative       False  \n",
       "4   0.038920        Positive     Positive        True  "
      ]
     },
     "execution_count": 310,
     "metadata": {},
     "output_type": "execute_result"
    }
   ],
   "source": [
    "iphone.head()"
   ]
  },
  {
   "cell_type": "markdown",
   "id": "44de9e53-fda7-4db0-9cdf-30d9f848a9d0",
   "metadata": {},
   "source": [
    "## Keyword analysis"
   ]
  },
  {
   "cell_type": "code",
   "execution_count": 311,
   "id": "e54737be-342a-4f97-ba51-4a972cf81fc5",
   "metadata": {},
   "outputs": [],
   "source": [
    "from sklearn.decomposition import LatentDirichletAllocation\n",
    "from sklearn.feature_extraction.text import TfidfVectorizer"
   ]
  },
  {
   "cell_type": "code",
   "execution_count": 312,
   "id": "b8110061-774f-4f39-9d89-6e39cfc33973",
   "metadata": {},
   "outputs": [],
   "source": [
    "## Initializing vectorizer for topic modeling\n",
    "vectorizer = TfidfVectorizer(stop_words='english', max_features=1000)\n",
    "X = vectorizer.fit_transform(iphone['Text'])   ## fitting the required data."
   ]
  },
  {
   "cell_type": "code",
   "execution_count": 313,
   "id": "f7300920-01d1-4d28-bf20-19d0894d5601",
   "metadata": {},
   "outputs": [
    {
     "data": {
      "text/html": [
       "<style>#sk-container-id-3 {color: black;background-color: white;}#sk-container-id-3 pre{padding: 0;}#sk-container-id-3 div.sk-toggleable {background-color: white;}#sk-container-id-3 label.sk-toggleable__label {cursor: pointer;display: block;width: 100%;margin-bottom: 0;padding: 0.3em;box-sizing: border-box;text-align: center;}#sk-container-id-3 label.sk-toggleable__label-arrow:before {content: \"▸\";float: left;margin-right: 0.25em;color: #696969;}#sk-container-id-3 label.sk-toggleable__label-arrow:hover:before {color: black;}#sk-container-id-3 div.sk-estimator:hover label.sk-toggleable__label-arrow:before {color: black;}#sk-container-id-3 div.sk-toggleable__content {max-height: 0;max-width: 0;overflow: hidden;text-align: left;background-color: #f0f8ff;}#sk-container-id-3 div.sk-toggleable__content pre {margin: 0.2em;color: black;border-radius: 0.25em;background-color: #f0f8ff;}#sk-container-id-3 input.sk-toggleable__control:checked~div.sk-toggleable__content {max-height: 200px;max-width: 100%;overflow: auto;}#sk-container-id-3 input.sk-toggleable__control:checked~label.sk-toggleable__label-arrow:before {content: \"▾\";}#sk-container-id-3 div.sk-estimator input.sk-toggleable__control:checked~label.sk-toggleable__label {background-color: #d4ebff;}#sk-container-id-3 div.sk-label input.sk-toggleable__control:checked~label.sk-toggleable__label {background-color: #d4ebff;}#sk-container-id-3 input.sk-hidden--visually {border: 0;clip: rect(1px 1px 1px 1px);clip: rect(1px, 1px, 1px, 1px);height: 1px;margin: -1px;overflow: hidden;padding: 0;position: absolute;width: 1px;}#sk-container-id-3 div.sk-estimator {font-family: monospace;background-color: #f0f8ff;border: 1px dotted black;border-radius: 0.25em;box-sizing: border-box;margin-bottom: 0.5em;}#sk-container-id-3 div.sk-estimator:hover {background-color: #d4ebff;}#sk-container-id-3 div.sk-parallel-item::after {content: \"\";width: 100%;border-bottom: 1px solid gray;flex-grow: 1;}#sk-container-id-3 div.sk-label:hover label.sk-toggleable__label {background-color: #d4ebff;}#sk-container-id-3 div.sk-serial::before {content: \"\";position: absolute;border-left: 1px solid gray;box-sizing: border-box;top: 0;bottom: 0;left: 50%;z-index: 0;}#sk-container-id-3 div.sk-serial {display: flex;flex-direction: column;align-items: center;background-color: white;padding-right: 0.2em;padding-left: 0.2em;position: relative;}#sk-container-id-3 div.sk-item {position: relative;z-index: 1;}#sk-container-id-3 div.sk-parallel {display: flex;align-items: stretch;justify-content: center;background-color: white;position: relative;}#sk-container-id-3 div.sk-item::before, #sk-container-id-3 div.sk-parallel-item::before {content: \"\";position: absolute;border-left: 1px solid gray;box-sizing: border-box;top: 0;bottom: 0;left: 50%;z-index: -1;}#sk-container-id-3 div.sk-parallel-item {display: flex;flex-direction: column;z-index: 1;position: relative;background-color: white;}#sk-container-id-3 div.sk-parallel-item:first-child::after {align-self: flex-end;width: 50%;}#sk-container-id-3 div.sk-parallel-item:last-child::after {align-self: flex-start;width: 50%;}#sk-container-id-3 div.sk-parallel-item:only-child::after {width: 0;}#sk-container-id-3 div.sk-dashed-wrapped {border: 1px dashed gray;margin: 0 0.4em 0.5em 0.4em;box-sizing: border-box;padding-bottom: 0.4em;background-color: white;}#sk-container-id-3 div.sk-label label {font-family: monospace;font-weight: bold;display: inline-block;line-height: 1.2em;}#sk-container-id-3 div.sk-label-container {text-align: center;}#sk-container-id-3 div.sk-container {/* jupyter's `normalize.less` sets `[hidden] { display: none; }` but bootstrap.min.css set `[hidden] { display: none !important; }` so we also need the `!important` here to be able to override the default hidden behavior on the sphinx rendered scikit-learn.org. See: https://github.com/scikit-learn/scikit-learn/issues/21755 */display: inline-block !important;position: relative;}#sk-container-id-3 div.sk-text-repr-fallback {display: none;}</style><div id=\"sk-container-id-3\" class=\"sk-top-container\"><div class=\"sk-text-repr-fallback\"><pre>LatentDirichletAllocation(n_components=50, random_state=42)</pre><b>In a Jupyter environment, please rerun this cell to show the HTML representation or trust the notebook. <br />On GitHub, the HTML representation is unable to render, please try loading this page with nbviewer.org.</b></div><div class=\"sk-container\" hidden><div class=\"sk-item\"><div class=\"sk-estimator sk-toggleable\"><input class=\"sk-toggleable__control sk-hidden--visually\" id=\"sk-estimator-id-3\" type=\"checkbox\" checked><label for=\"sk-estimator-id-3\" class=\"sk-toggleable__label sk-toggleable__label-arrow\">LatentDirichletAllocation</label><div class=\"sk-toggleable__content\"><pre>LatentDirichletAllocation(n_components=50, random_state=42)</pre></div></div></div></div></div>"
      ],
      "text/plain": [
       "LatentDirichletAllocation(n_components=50, random_state=42)"
      ]
     },
     "execution_count": 313,
     "metadata": {},
     "output_type": "execute_result"
    }
   ],
   "source": [
    "## by applying Latent Dirichlet Allocation i.e LDA\n",
    "lda = LatentDirichletAllocation(n_components=50, random_state=42)\n",
    "lda.fit(X)"
   ]
  },
  {
   "cell_type": "code",
   "execution_count": 314,
   "id": "1b188714-0076-4f44-9142-507dfadf399c",
   "metadata": {},
   "outputs": [],
   "source": [
    "# Get the top words for each topic\n",
    "terms = vectorizer.get_feature_names_out()\n",
    "topics = []\n",
    "for topic_idx, topic in enumerate(lda.components_):\n",
    "    topics.append([terms[i] for i in topic.argsort()[:-6:-1]])"
   ]
  },
  {
   "cell_type": "code",
   "execution_count": 315,
   "id": "3d3709bf-b516-4f8d-b460-5b39af9b4a7b",
   "metadata": {},
   "outputs": [
    {
     "name": "stdout",
     "output_type": "stream",
     "text": [
      "Top topics:\n",
      "Topic 1: phone, apple, iphone, messages, icloud\n",
      "Topic 2: sleep, cut, later, products, update\n",
      "Topic 3: idk, location, stopped, coming, tone\n",
      "Topic 4: notifications, notification, know, instead, app\n",
      "Topic 5: hdr, hit, hear, opening, fell\n",
      "Topic 6: storage, settings, available, chat, search\n",
      "Topic 7: accidentally, button, original, hit, blocks\n",
      "Topic 8: bad, starting, turning, function, answer\n",
      "Topic 9: message, screentime, checked, phone, set\n",
      "Topic 10: app, intelligence, email, chatgpt, apple\n",
      "Topic 11: reddit, let, tap, app, apps\n",
      "Topic 12: se, cell, best, group, personal\n",
      "Topic 13: cool, pretty, bought, wondering, snapchat\n",
      "Topic 14: youtube, volume, videos, ads, buttons\n",
      "Topic 15: help, says, dont, understand, title\n",
      "Topic 16: taking, weird, picture, photo, click\n",
      "Topic 17: missing, effect, think, connect, totally\n",
      "Topic 18: updates, default, anybody, bar, dont\n",
      "Topic 19: photos, faster, export, send, photo\n",
      "Topic 20: text, zero, gets, google, good\n",
      "Topic 21: saw, base, changes, write, phone\n",
      "Topic 22: basically, broken, pro, old, make\n",
      "Topic 23: happened, charging, thanks, sudden, iphone\n",
      "Topic 24: unable, machine, opened, access, loading\n",
      "Topic 25: change, screenshot, color, tape, background\n",
      "Topic 26: delete, saved, fe, arent, word\n",
      "Topic 27: pictures, cold, type, look, music\n",
      "Topic 28: siri, list, results, ios, settings\n",
      "Topic 29: isnt, mail, updated, recent, months\n",
      "Topic 30: specific, color, trying, downloaded, apple\n",
      "Topic 31: ill, repair, restarting, tell, scrolling\n",
      "Topic 32: set, alarms, alarm, focus, ive\n",
      "Topic 33: gb, ram, pro, new, bank\n",
      "Topic 34: iphone, control, glass, long, camera\n",
      "Topic 35: features, ai, like, protection, feel\n",
      "Topic 36: camera, like, come, playing, away\n",
      "Topic 37: phone, message, way, time, thanks\n",
      "Topic 38: control, camera, add, apps, center\n",
      "Topic 39: battery, got, phone, charger, life\n",
      "Topic 40: adapter, glitches, like, unable, world\n",
      "Topic 41: logged, id, works, constantly, chatgpt\n",
      "Topic 42: number, turned, better, fine, calls\n",
      "Topic 43: issue, wifi, network, sim, signal\n",
      "Topic 44: iphone, good, latest, model, ios\n",
      "Topic 45: software, shut, fully, airpods, remember\n",
      "Topic 46: second, android, great, hand, live\n",
      "Topic 47: face, wife, brand, right, screen\n",
      "Topic 48: screen, case, protector, pm, ordered\n",
      "Topic 49: deleted, video, arent, quality, location\n",
      "Topic 50: explain, song, close, try, twice\n"
     ]
    }
   ],
   "source": [
    "print(\"Top topics:\")\n",
    "for idx, topic in enumerate(topics):\n",
    "    print(f\"Topic {idx+1}: {', '.join(topic)}\")"
   ]
  },
  {
   "cell_type": "markdown",
   "id": "a982eef7-6b18-4458-851c-ab7a85e408d7",
   "metadata": {},
   "source": [
    "## Aspect-Based Sentiment Analysis"
   ]
  },
  {
   "cell_type": "code",
   "execution_count": 316,
   "id": "0073eb1d-ec47-457c-bd2d-8ebe9bfd187e",
   "metadata": {},
   "outputs": [],
   "source": [
    "from sklearn.feature_extraction.text import CountVectorizer"
   ]
  },
  {
   "cell_type": "code",
   "execution_count": 317,
   "id": "9c5f9f0d-7ec6-478a-99b9-eefcabf3c3ed",
   "metadata": {},
   "outputs": [],
   "source": [
    "## Lets define the aspects like their battery health , camera quality , about screen and all from the comments that are mostly highlighting.\n",
    "aspects = ['camera', 'battery', 'screen', 'performance', 'ai', 'storage', 'design', 'model']"
   ]
  },
  {
   "cell_type": "code",
   "execution_count": 318,
   "id": "995b7c07-c8de-4b2b-b0a0-db681307f2bc",
   "metadata": {},
   "outputs": [],
   "source": [
    "vectorizer = CountVectorizer(vocabulary=aspects, stop_words='english')"
   ]
  },
  {
   "cell_type": "code",
   "execution_count": 319,
   "id": "9cb86ca9-e4f3-46ac-be87-9ca077902631",
   "metadata": {},
   "outputs": [],
   "source": [
    "### Transform the text data\n",
    "X = vectorizer.transform(iphone['Text'])"
   ]
  },
  {
   "cell_type": "code",
   "execution_count": 320,
   "id": "21cdfd59-c214-47ed-9901-92df2deacdf9",
   "metadata": {},
   "outputs": [],
   "source": [
    "# Add column for aspect mention\n",
    "iphone.loc[:, 'Aspect-Mentions'] = X.sum(axis=1)"
   ]
  },
  {
   "cell_type": "code",
   "execution_count": 321,
   "id": "4cffc28f-bdda-40e9-9248-e4fe00b9c653",
   "metadata": {},
   "outputs": [],
   "source": [
    "# Analyze sentiment for each given aspect such as performance, battery and all.\n",
    "for aspect in aspects:\n",
    "    iphone[f'Sentiment-{aspect}'] = iphone['Text'].apply(lambda x: 'Positive' if aspect in x and TextBlob(x).sentiment.polarity > 0 else ('Negative' if aspect in x and TextBlob(x).sentiment.polarity < 0 else 'Neutral'))"
   ]
  },
  {
   "cell_type": "code",
   "execution_count": 322,
   "id": "1756c8f4-b231-4ebe-bdd6-4ba0b4ff48c7",
   "metadata": {},
   "outputs": [],
   "source": [
    "## Finally the aspect sentiments.\n",
    "aspect_sentiment = iphone.groupby('comparison').agg({\n",
    "    'Aspect-Mentions': 'sum',\n",
    "    **{f'Sentiment-{aspect}': lambda x: x.value_counts().to_dict() for aspect in aspects}\n",
    "}).reset_index()"
   ]
  },
  {
   "cell_type": "code",
   "execution_count": 323,
   "id": "52a09c5d-7648-4336-8b75-a096e770bb37",
   "metadata": {},
   "outputs": [
    {
     "name": "stdout",
     "output_type": "stream",
     "text": [
      "   comparison  Aspect-Mentions  \\\n",
      "0       False              173   \n",
      "1        True              498   \n",
      "\n",
      "                                   Sentiment-camera  \\\n",
      "0   {'Neutral': 497, 'Negative': 22, 'Positive': 4}   \n",
      "1  {'Neutral': 903, 'Positive': 41, 'Negative': 13}   \n",
      "\n",
      "                                 Sentiment-battery  \\\n",
      "0   {'Neutral': 514, 'Negative': 6, 'Positive': 3}   \n",
      "1  {'Neutral': 934, 'Positive': 16, 'Negative': 7}   \n",
      "\n",
      "                                   Sentiment-screen  \\\n",
      "0  {'Neutral': 460, 'Negative': 34, 'Positive': 29}   \n",
      "1  {'Neutral': 827, 'Positive': 99, 'Negative': 31}   \n",
      "\n",
      "             Sentiment-performance  \\\n",
      "0  {'Neutral': 522, 'Negative': 1}   \n",
      "1  {'Neutral': 949, 'Positive': 8}   \n",
      "\n",
      "                                        Sentiment-ai  \\\n",
      "0   {'Neutral': 432, 'Positive': 50, 'Negative': 41}   \n",
      "1  {'Neutral': 717, 'Positive': 182, 'Negative': 58}   \n",
      "\n",
      "                                 Sentiment-storage  \\\n",
      "0   {'Neutral': 518, 'Positive': 3, 'Negative': 2}   \n",
      "1  {'Neutral': 940, 'Positive': 15, 'Negative': 2}   \n",
      "\n",
      "                                 Sentiment-design  \\\n",
      "0  {'Neutral': 516, 'Negative': 4, 'Positive': 3}   \n",
      "1                 {'Neutral': 951, 'Positive': 6}   \n",
      "\n",
      "                                   Sentiment-model  \n",
      "0                  {'Neutral': 514, 'Negative': 9}  \n",
      "1  {'Neutral': 934, 'Positive': 20, 'Negative': 3}  \n"
     ]
    }
   ],
   "source": [
    "print(aspect_sentiment)"
   ]
  },
  {
   "cell_type": "code",
   "execution_count": 324,
   "id": "33aab951-2e5e-43a9-93ed-aecad42304b3",
   "metadata": {},
   "outputs": [
    {
     "data": {
      "text/html": [
       "<div>\n",
       "<style scoped>\n",
       "    .dataframe tbody tr th:only-of-type {\n",
       "        vertical-align: middle;\n",
       "    }\n",
       "\n",
       "    .dataframe tbody tr th {\n",
       "        vertical-align: top;\n",
       "    }\n",
       "\n",
       "    .dataframe thead th {\n",
       "        text-align: right;\n",
       "    }\n",
       "</style>\n",
       "<table border=\"1\" class=\"dataframe\">\n",
       "  <thead>\n",
       "    <tr style=\"text-align: right;\">\n",
       "      <th></th>\n",
       "      <th>Title</th>\n",
       "      <th>Upvotes</th>\n",
       "      <th>Created</th>\n",
       "      <th>Text</th>\n",
       "      <th>Sentiment</th>\n",
       "      <th>Sentiment-Vader</th>\n",
       "      <th>Sentiment-TB</th>\n",
       "      <th>comparison</th>\n",
       "      <th>Aspect-Mentions</th>\n",
       "      <th>Sentiment-camera</th>\n",
       "      <th>Sentiment-battery</th>\n",
       "      <th>Sentiment-screen</th>\n",
       "      <th>Sentiment-performance</th>\n",
       "      <th>Sentiment-ai</th>\n",
       "      <th>Sentiment-storage</th>\n",
       "      <th>Sentiment-design</th>\n",
       "      <th>Sentiment-model</th>\n",
       "    </tr>\n",
       "  </thead>\n",
       "  <tbody>\n",
       "    <tr>\n",
       "      <th>0</th>\n",
       "      <td>Messages sending as a contact rather than main...</td>\n",
       "      <td>1</td>\n",
       "      <td>2024-12-15 11:06:58</td>\n",
       "      <td>hi guys dads phone every often send dead grand...</td>\n",
       "      <td>-0.100000</td>\n",
       "      <td>Negative</td>\n",
       "      <td>Negative</td>\n",
       "      <td>True</td>\n",
       "      <td>0</td>\n",
       "      <td>Neutral</td>\n",
       "      <td>Neutral</td>\n",
       "      <td>Neutral</td>\n",
       "      <td>Neutral</td>\n",
       "      <td>Neutral</td>\n",
       "      <td>Neutral</td>\n",
       "      <td>Neutral</td>\n",
       "      <td>Neutral</td>\n",
       "    </tr>\n",
       "    <tr>\n",
       "      <th>1</th>\n",
       "      <td>SOS! When my ex sends me a message, it pops up...</td>\n",
       "      <td>1</td>\n",
       "      <td>2024-12-15 11:01:50</td>\n",
       "      <td>ex sent text came number happened times week h...</td>\n",
       "      <td>0.044239</td>\n",
       "      <td>Negative</td>\n",
       "      <td>Negative</td>\n",
       "      <td>True</td>\n",
       "      <td>1</td>\n",
       "      <td>Negative</td>\n",
       "      <td>Neutral</td>\n",
       "      <td>Neutral</td>\n",
       "      <td>Neutral</td>\n",
       "      <td>Negative</td>\n",
       "      <td>Neutral</td>\n",
       "      <td>Neutral</td>\n",
       "      <td>Neutral</td>\n",
       "    </tr>\n",
       "    <tr>\n",
       "      <th>2</th>\n",
       "      <td>I use to be able to have a YouTube video play ...</td>\n",
       "      <td>1</td>\n",
       "      <td>2024-12-15 10:35:52</td>\n",
       "      <td>siri wont play youtube videos instead pulls li...</td>\n",
       "      <td>0.000000</td>\n",
       "      <td>Negative</td>\n",
       "      <td>Neutral</td>\n",
       "      <td>False</td>\n",
       "      <td>0</td>\n",
       "      <td>Neutral</td>\n",
       "      <td>Neutral</td>\n",
       "      <td>Neutral</td>\n",
       "      <td>Neutral</td>\n",
       "      <td>Neutral</td>\n",
       "      <td>Neutral</td>\n",
       "      <td>Neutral</td>\n",
       "      <td>Neutral</td>\n",
       "    </tr>\n",
       "    <tr>\n",
       "      <th>3</th>\n",
       "      <td>accidentally sent as text message</td>\n",
       "      <td>1</td>\n",
       "      <td>2024-12-15 10:33:53</td>\n",
       "      <td>talking someone messages long pressed message ...</td>\n",
       "      <td>-0.050000</td>\n",
       "      <td>Positive</td>\n",
       "      <td>Negative</td>\n",
       "      <td>False</td>\n",
       "      <td>0</td>\n",
       "      <td>Neutral</td>\n",
       "      <td>Neutral</td>\n",
       "      <td>Neutral</td>\n",
       "      <td>Neutral</td>\n",
       "      <td>Neutral</td>\n",
       "      <td>Neutral</td>\n",
       "      <td>Neutral</td>\n",
       "      <td>Neutral</td>\n",
       "    </tr>\n",
       "    <tr>\n",
       "      <th>4</th>\n",
       "      <td>Please help me fix my phone !!!</td>\n",
       "      <td>6</td>\n",
       "      <td>2024-12-15 10:21:19</td>\n",
       "      <td>phone model pro max update ive trying download...</td>\n",
       "      <td>0.038920</td>\n",
       "      <td>Positive</td>\n",
       "      <td>Positive</td>\n",
       "      <td>True</td>\n",
       "      <td>1</td>\n",
       "      <td>Neutral</td>\n",
       "      <td>Neutral</td>\n",
       "      <td>Neutral</td>\n",
       "      <td>Neutral</td>\n",
       "      <td>Neutral</td>\n",
       "      <td>Neutral</td>\n",
       "      <td>Neutral</td>\n",
       "      <td>Positive</td>\n",
       "    </tr>\n",
       "  </tbody>\n",
       "</table>\n",
       "</div>"
      ],
      "text/plain": [
       "                                               Title  Upvotes  \\\n",
       "0  Messages sending as a contact rather than main...        1   \n",
       "1  SOS! When my ex sends me a message, it pops up...        1   \n",
       "2  I use to be able to have a YouTube video play ...        1   \n",
       "3                  accidentally sent as text message        1   \n",
       "4                    Please help me fix my phone !!!        6   \n",
       "\n",
       "              Created                                               Text  \\\n",
       "0 2024-12-15 11:06:58  hi guys dads phone every often send dead grand...   \n",
       "1 2024-12-15 11:01:50  ex sent text came number happened times week h...   \n",
       "2 2024-12-15 10:35:52  siri wont play youtube videos instead pulls li...   \n",
       "3 2024-12-15 10:33:53  talking someone messages long pressed message ...   \n",
       "4 2024-12-15 10:21:19  phone model pro max update ive trying download...   \n",
       "\n",
       "   Sentiment Sentiment-Vader Sentiment-TB  comparison  Aspect-Mentions  \\\n",
       "0  -0.100000        Negative     Negative        True                0   \n",
       "1   0.044239        Negative     Negative        True                1   \n",
       "2   0.000000        Negative      Neutral       False                0   \n",
       "3  -0.050000        Positive     Negative       False                0   \n",
       "4   0.038920        Positive     Positive        True                1   \n",
       "\n",
       "  Sentiment-camera Sentiment-battery Sentiment-screen Sentiment-performance  \\\n",
       "0          Neutral           Neutral          Neutral               Neutral   \n",
       "1         Negative           Neutral          Neutral               Neutral   \n",
       "2          Neutral           Neutral          Neutral               Neutral   \n",
       "3          Neutral           Neutral          Neutral               Neutral   \n",
       "4          Neutral           Neutral          Neutral               Neutral   \n",
       "\n",
       "  Sentiment-ai Sentiment-storage Sentiment-design Sentiment-model  \n",
       "0      Neutral           Neutral          Neutral         Neutral  \n",
       "1     Negative           Neutral          Neutral         Neutral  \n",
       "2      Neutral           Neutral          Neutral         Neutral  \n",
       "3      Neutral           Neutral          Neutral         Neutral  \n",
       "4      Neutral           Neutral          Neutral        Positive  "
      ]
     },
     "execution_count": 324,
     "metadata": {},
     "output_type": "execute_result"
    }
   ],
   "source": [
    "iphone.head()"
   ]
  },
  {
   "cell_type": "markdown",
   "id": "2760a532-23f1-4e43-a017-5876e99521d2",
   "metadata": {},
   "source": [
    "## Word Frequency by Sentiment"
   ]
  },
  {
   "cell_type": "code",
   "execution_count": 325,
   "id": "25524ca9-8666-4707-9db3-3fd7f3889f3b",
   "metadata": {},
   "outputs": [],
   "source": [
    "positive_reviews = iphone[iphone['Sentiment-TB'] == 'Positive']['Text']\n",
    "negative_reviews = iphone[iphone['Sentiment-TB'] == 'Negative']['Text']"
   ]
  },
  {
   "cell_type": "code",
   "execution_count": 326,
   "id": "22eb90c3-2dd6-48c0-8783-f2f78b1fc2fb",
   "metadata": {},
   "outputs": [],
   "source": [
    "vectorizer = CountVectorizer(stop_words='english', max_features=50)"
   ]
  },
  {
   "cell_type": "code",
   "execution_count": 327,
   "id": "c7b5a49e-8dfd-43e4-bf3a-f8a9b2e3d07f",
   "metadata": {},
   "outputs": [],
   "source": [
    "## for the positive one"
   ]
  },
  {
   "cell_type": "code",
   "execution_count": 328,
   "id": "2dac5091-0f5d-4e3e-b1d8-00bdeb9e3f97",
   "metadata": {},
   "outputs": [
    {
     "name": "stdout",
     "output_type": "stream",
     "text": [
      "Top Positive Words:\n",
      "iphone     626\n",
      "phone      583\n",
      "apple      298\n",
      "like       290\n",
      "app        274\n",
      "im         251\n",
      "pro        227\n",
      "ios        199\n",
      "screen     189\n",
      "new        187\n",
      "time       172\n",
      "dont       165\n",
      "photos     158\n",
      "ive        158\n",
      "use        157\n",
      "android    156\n",
      "issue      149\n",
      "know       132\n",
      "got        126\n",
      "old        123\n",
      "dtype: int64\n"
     ]
    }
   ],
   "source": [
    "positive_vector = vectorizer.fit_transform(positive_reviews)\n",
    "positive_words = pd.DataFrame(positive_vector.toarray(), columns=vectorizer.get_feature_names_out())\n",
    "print(\"Top Positive Words:\")\n",
    "print(positive_words.sum().sort_values(ascending=False).head(20))"
   ]
  },
  {
   "cell_type": "code",
   "execution_count": 329,
   "id": "65e55da0-3e73-4dfd-aaa5-4b3652c3f728",
   "metadata": {},
   "outputs": [
    {
     "name": "stdout",
     "output_type": "stream",
     "text": [
      "Top Negative Words:\n",
      "iphone     244\n",
      "phone      241\n",
      "im         133\n",
      "like       108\n",
      "app        107\n",
      "apple       87\n",
      "ive         82\n",
      "time        78\n",
      "screen      73\n",
      "number      73\n",
      "ios         64\n",
      "android     64\n",
      "pro         63\n",
      "way         63\n",
      "work        63\n",
      "new         62\n",
      "camera      61\n",
      "tried       60\n",
      "want        59\n",
      "dont        59\n",
      "dtype: int64\n"
     ]
    }
   ],
   "source": [
    "## similarly for the negative one.\n",
    "negative_vector = vectorizer.fit_transform(negative_reviews)\n",
    "negative_words = pd.DataFrame(negative_vector.toarray(), columns=vectorizer.get_feature_names_out())\n",
    "print(\"Top Negative Words:\")\n",
    "print(negative_words.sum().sort_values(ascending=False).head(20))"
   ]
  },
  {
   "cell_type": "code",
   "execution_count": 330,
   "id": "5cd112cc-929b-4dc0-ab89-7c14080717d0",
   "metadata": {},
   "outputs": [],
   "source": [
    "## in the same way we can do for neutral one also, no major change is there."
   ]
  },
  {
   "cell_type": "code",
   "execution_count": 331,
   "id": "097cb7cc-e8bc-4746-84a5-bb05c3abcb77",
   "metadata": {},
   "outputs": [
    {
     "data": {
      "text/html": [
       "<div>\n",
       "<style scoped>\n",
       "    .dataframe tbody tr th:only-of-type {\n",
       "        vertical-align: middle;\n",
       "    }\n",
       "\n",
       "    .dataframe tbody tr th {\n",
       "        vertical-align: top;\n",
       "    }\n",
       "\n",
       "    .dataframe thead th {\n",
       "        text-align: right;\n",
       "    }\n",
       "</style>\n",
       "<table border=\"1\" class=\"dataframe\">\n",
       "  <thead>\n",
       "    <tr style=\"text-align: right;\">\n",
       "      <th></th>\n",
       "      <th>comparison</th>\n",
       "      <th>Sentiment</th>\n",
       "      <th>Upvotes</th>\n",
       "    </tr>\n",
       "  </thead>\n",
       "  <tbody>\n",
       "    <tr>\n",
       "      <th>0</th>\n",
       "      <td>False</td>\n",
       "      <td>-0.500000</td>\n",
       "      <td>44</td>\n",
       "    </tr>\n",
       "    <tr>\n",
       "      <th>1</th>\n",
       "      <td>False</td>\n",
       "      <td>-0.475000</td>\n",
       "      <td>6</td>\n",
       "    </tr>\n",
       "    <tr>\n",
       "      <th>2</th>\n",
       "      <td>False</td>\n",
       "      <td>-0.416667</td>\n",
       "      <td>187</td>\n",
       "    </tr>\n",
       "    <tr>\n",
       "      <th>3</th>\n",
       "      <td>False</td>\n",
       "      <td>-0.400000</td>\n",
       "      <td>0</td>\n",
       "    </tr>\n",
       "    <tr>\n",
       "      <th>4</th>\n",
       "      <td>False</td>\n",
       "      <td>-0.351852</td>\n",
       "      <td>70</td>\n",
       "    </tr>\n",
       "    <tr>\n",
       "      <th>...</th>\n",
       "      <td>...</td>\n",
       "      <td>...</td>\n",
       "      <td>...</td>\n",
       "    </tr>\n",
       "    <tr>\n",
       "      <th>590</th>\n",
       "      <td>True</td>\n",
       "      <td>0.600000</td>\n",
       "      <td>1</td>\n",
       "    </tr>\n",
       "    <tr>\n",
       "      <th>591</th>\n",
       "      <td>True</td>\n",
       "      <td>0.634091</td>\n",
       "      <td>0</td>\n",
       "    </tr>\n",
       "    <tr>\n",
       "      <th>592</th>\n",
       "      <td>True</td>\n",
       "      <td>0.700000</td>\n",
       "      <td>4</td>\n",
       "    </tr>\n",
       "    <tr>\n",
       "      <th>593</th>\n",
       "      <td>True</td>\n",
       "      <td>0.750000</td>\n",
       "      <td>0</td>\n",
       "    </tr>\n",
       "    <tr>\n",
       "      <th>594</th>\n",
       "      <td>True</td>\n",
       "      <td>1.000000</td>\n",
       "      <td>1</td>\n",
       "    </tr>\n",
       "  </tbody>\n",
       "</table>\n",
       "<p>595 rows × 3 columns</p>\n",
       "</div>"
      ],
      "text/plain": [
       "     comparison  Sentiment  Upvotes\n",
       "0         False  -0.500000       44\n",
       "1         False  -0.475000        6\n",
       "2         False  -0.416667      187\n",
       "3         False  -0.400000        0\n",
       "4         False  -0.351852       70\n",
       "..          ...        ...      ...\n",
       "590        True   0.600000        1\n",
       "591        True   0.634091        0\n",
       "592        True   0.700000        4\n",
       "593        True   0.750000        0\n",
       "594        True   1.000000        1\n",
       "\n",
       "[595 rows x 3 columns]"
      ]
     },
     "execution_count": 331,
     "metadata": {},
     "output_type": "execute_result"
    }
   ],
   "source": [
    "## here we Comparing sum of upvotes for each sentiment label.\n",
    "upvotes_comparison = iphone.groupby(['comparison', 'Sentiment']).agg({'Upvotes': 'sum'}).reset_index()\n",
    "upvotes_comparison"
   ]
  },
  {
   "cell_type": "code",
   "execution_count": 332,
   "id": "3e01dde2-5b45-4aa1-933a-d7b994160e57",
   "metadata": {},
   "outputs": [
    {
     "data": {
      "text/html": [
       "<div>\n",
       "<style scoped>\n",
       "    .dataframe tbody tr th:only-of-type {\n",
       "        vertical-align: middle;\n",
       "    }\n",
       "\n",
       "    .dataframe tbody tr th {\n",
       "        vertical-align: top;\n",
       "    }\n",
       "\n",
       "    .dataframe thead th {\n",
       "        text-align: right;\n",
       "    }\n",
       "</style>\n",
       "<table border=\"1\" class=\"dataframe\">\n",
       "  <thead>\n",
       "    <tr style=\"text-align: right;\">\n",
       "      <th></th>\n",
       "      <th>comparison</th>\n",
       "      <th>Sentiment</th>\n",
       "      <th>Upvotes</th>\n",
       "    </tr>\n",
       "  </thead>\n",
       "  <tbody>\n",
       "    <tr>\n",
       "      <th>0</th>\n",
       "      <td>False</td>\n",
       "      <td>-0.500000</td>\n",
       "      <td>8.800000</td>\n",
       "    </tr>\n",
       "    <tr>\n",
       "      <th>1</th>\n",
       "      <td>False</td>\n",
       "      <td>-0.475000</td>\n",
       "      <td>2.000000</td>\n",
       "    </tr>\n",
       "    <tr>\n",
       "      <th>2</th>\n",
       "      <td>False</td>\n",
       "      <td>-0.416667</td>\n",
       "      <td>31.166667</td>\n",
       "    </tr>\n",
       "    <tr>\n",
       "      <th>3</th>\n",
       "      <td>False</td>\n",
       "      <td>-0.400000</td>\n",
       "      <td>0.000000</td>\n",
       "    </tr>\n",
       "    <tr>\n",
       "      <th>4</th>\n",
       "      <td>False</td>\n",
       "      <td>-0.351852</td>\n",
       "      <td>14.000000</td>\n",
       "    </tr>\n",
       "    <tr>\n",
       "      <th>...</th>\n",
       "      <td>...</td>\n",
       "      <td>...</td>\n",
       "      <td>...</td>\n",
       "    </tr>\n",
       "    <tr>\n",
       "      <th>590</th>\n",
       "      <td>True</td>\n",
       "      <td>0.600000</td>\n",
       "      <td>0.500000</td>\n",
       "    </tr>\n",
       "    <tr>\n",
       "      <th>591</th>\n",
       "      <td>True</td>\n",
       "      <td>0.634091</td>\n",
       "      <td>0.000000</td>\n",
       "    </tr>\n",
       "    <tr>\n",
       "      <th>592</th>\n",
       "      <td>True</td>\n",
       "      <td>0.700000</td>\n",
       "      <td>2.000000</td>\n",
       "    </tr>\n",
       "    <tr>\n",
       "      <th>593</th>\n",
       "      <td>True</td>\n",
       "      <td>0.750000</td>\n",
       "      <td>0.000000</td>\n",
       "    </tr>\n",
       "    <tr>\n",
       "      <th>594</th>\n",
       "      <td>True</td>\n",
       "      <td>1.000000</td>\n",
       "      <td>1.000000</td>\n",
       "    </tr>\n",
       "  </tbody>\n",
       "</table>\n",
       "<p>595 rows × 3 columns</p>\n",
       "</div>"
      ],
      "text/plain": [
       "     comparison  Sentiment    Upvotes\n",
       "0         False  -0.500000   8.800000\n",
       "1         False  -0.475000   2.000000\n",
       "2         False  -0.416667  31.166667\n",
       "3         False  -0.400000   0.000000\n",
       "4         False  -0.351852  14.000000\n",
       "..          ...        ...        ...\n",
       "590        True   0.600000   0.500000\n",
       "591        True   0.634091   0.000000\n",
       "592        True   0.700000   2.000000\n",
       "593        True   0.750000   0.000000\n",
       "594        True   1.000000   1.000000\n",
       "\n",
       "[595 rows x 3 columns]"
      ]
     },
     "execution_count": 332,
     "metadata": {},
     "output_type": "execute_result"
    }
   ],
   "source": [
    "## and in this we are Comparing each sentiment upvotes with the mean score.\n",
    "avg_upvotes_sentiment = iphone.groupby(['comparison', 'Sentiment']).agg({'Upvotes': 'mean'}).reset_index()\n",
    "avg_upvotes_sentiment"
   ]
  },
  {
   "cell_type": "markdown",
   "id": "814bc1df-5e99-453e-b02b-4e4949b2fce1",
   "metadata": {},
   "source": [
    "## Aspect Sentiment Based on upvotes"
   ]
  },
  {
   "cell_type": "code",
   "execution_count": 333,
   "id": "7e8f3e44-a98d-42f3-a143-d83f2e1040f1",
   "metadata": {},
   "outputs": [],
   "source": [
    "aspect_sentiment_upvotes = iphone.groupby(['Aspect-Mentions']).agg({'Upvotes': 'sum'}).reset_index()"
   ]
  },
  {
   "cell_type": "code",
   "execution_count": 334,
   "id": "77203050-4690-4a94-8e45-b08594467350",
   "metadata": {},
   "outputs": [
    {
     "data": {
      "text/html": [
       "<div>\n",
       "<style scoped>\n",
       "    .dataframe tbody tr th:only-of-type {\n",
       "        vertical-align: middle;\n",
       "    }\n",
       "\n",
       "    .dataframe tbody tr th {\n",
       "        vertical-align: top;\n",
       "    }\n",
       "\n",
       "    .dataframe thead th {\n",
       "        text-align: right;\n",
       "    }\n",
       "</style>\n",
       "<table border=\"1\" class=\"dataframe\">\n",
       "  <thead>\n",
       "    <tr style=\"text-align: right;\">\n",
       "      <th></th>\n",
       "      <th>Aspect-Mentions</th>\n",
       "      <th>Upvotes</th>\n",
       "    </tr>\n",
       "  </thead>\n",
       "  <tbody>\n",
       "    <tr>\n",
       "      <th>0</th>\n",
       "      <td>0</td>\n",
       "      <td>142099</td>\n",
       "    </tr>\n",
       "    <tr>\n",
       "      <th>1</th>\n",
       "      <td>1</td>\n",
       "      <td>7113</td>\n",
       "    </tr>\n",
       "    <tr>\n",
       "      <th>2</th>\n",
       "      <td>2</td>\n",
       "      <td>337</td>\n",
       "    </tr>\n",
       "    <tr>\n",
       "      <th>3</th>\n",
       "      <td>3</td>\n",
       "      <td>992</td>\n",
       "    </tr>\n",
       "    <tr>\n",
       "      <th>4</th>\n",
       "      <td>4</td>\n",
       "      <td>25</td>\n",
       "    </tr>\n",
       "    <tr>\n",
       "      <th>5</th>\n",
       "      <td>5</td>\n",
       "      <td>5685</td>\n",
       "    </tr>\n",
       "    <tr>\n",
       "      <th>6</th>\n",
       "      <td>6</td>\n",
       "      <td>130</td>\n",
       "    </tr>\n",
       "    <tr>\n",
       "      <th>7</th>\n",
       "      <td>7</td>\n",
       "      <td>1</td>\n",
       "    </tr>\n",
       "    <tr>\n",
       "      <th>8</th>\n",
       "      <td>10</td>\n",
       "      <td>0</td>\n",
       "    </tr>\n",
       "    <tr>\n",
       "      <th>9</th>\n",
       "      <td>15</td>\n",
       "      <td>0</td>\n",
       "    </tr>\n",
       "    <tr>\n",
       "      <th>10</th>\n",
       "      <td>29</td>\n",
       "      <td>0</td>\n",
       "    </tr>\n",
       "  </tbody>\n",
       "</table>\n",
       "</div>"
      ],
      "text/plain": [
       "    Aspect-Mentions  Upvotes\n",
       "0                 0   142099\n",
       "1                 1     7113\n",
       "2                 2      337\n",
       "3                 3      992\n",
       "4                 4       25\n",
       "5                 5     5685\n",
       "6                 6      130\n",
       "7                 7        1\n",
       "8                10        0\n",
       "9                15        0\n",
       "10               29        0"
      ]
     },
     "execution_count": 334,
     "metadata": {},
     "output_type": "execute_result"
    }
   ],
   "source": [
    "aspect_sentiment_upvotes"
   ]
  },
  {
   "cell_type": "code",
   "execution_count": 335,
   "id": "c461dcea-9754-406c-a014-a7147652cbec",
   "metadata": {},
   "outputs": [],
   "source": [
    "aspect_sentiment_upvotes = iphone.groupby(['comparison', 'Aspect-Mentions', 'Sentiment']).agg({'Upvotes': 'sum'}).reset_index()"
   ]
  },
  {
   "cell_type": "code",
   "execution_count": 336,
   "id": "1c8d2767-f92a-4826-a88d-5e6f566983dc",
   "metadata": {},
   "outputs": [
    {
     "data": {
      "text/html": [
       "<div>\n",
       "<style scoped>\n",
       "    .dataframe tbody tr th:only-of-type {\n",
       "        vertical-align: middle;\n",
       "    }\n",
       "\n",
       "    .dataframe tbody tr th {\n",
       "        vertical-align: top;\n",
       "    }\n",
       "\n",
       "    .dataframe thead th {\n",
       "        text-align: right;\n",
       "    }\n",
       "</style>\n",
       "<table border=\"1\" class=\"dataframe\">\n",
       "  <thead>\n",
       "    <tr style=\"text-align: right;\">\n",
       "      <th></th>\n",
       "      <th>comparison</th>\n",
       "      <th>Aspect-Mentions</th>\n",
       "      <th>Sentiment</th>\n",
       "      <th>Upvotes</th>\n",
       "    </tr>\n",
       "  </thead>\n",
       "  <tbody>\n",
       "    <tr>\n",
       "      <th>0</th>\n",
       "      <td>False</td>\n",
       "      <td>0</td>\n",
       "      <td>-0.500000</td>\n",
       "      <td>44</td>\n",
       "    </tr>\n",
       "    <tr>\n",
       "      <th>1</th>\n",
       "      <td>False</td>\n",
       "      <td>0</td>\n",
       "      <td>-0.475000</td>\n",
       "      <td>6</td>\n",
       "    </tr>\n",
       "    <tr>\n",
       "      <th>2</th>\n",
       "      <td>False</td>\n",
       "      <td>0</td>\n",
       "      <td>-0.416667</td>\n",
       "      <td>187</td>\n",
       "    </tr>\n",
       "    <tr>\n",
       "      <th>3</th>\n",
       "      <td>False</td>\n",
       "      <td>0</td>\n",
       "      <td>-0.400000</td>\n",
       "      <td>0</td>\n",
       "    </tr>\n",
       "    <tr>\n",
       "      <th>4</th>\n",
       "      <td>False</td>\n",
       "      <td>0</td>\n",
       "      <td>-0.351852</td>\n",
       "      <td>70</td>\n",
       "    </tr>\n",
       "    <tr>\n",
       "      <th>...</th>\n",
       "      <td>...</td>\n",
       "      <td>...</td>\n",
       "      <td>...</td>\n",
       "      <td>...</td>\n",
       "    </tr>\n",
       "    <tr>\n",
       "      <th>635</th>\n",
       "      <td>True</td>\n",
       "      <td>6</td>\n",
       "      <td>0.248839</td>\n",
       "      <td>0</td>\n",
       "    </tr>\n",
       "    <tr>\n",
       "      <th>636</th>\n",
       "      <td>True</td>\n",
       "      <td>7</td>\n",
       "      <td>0.041925</td>\n",
       "      <td>1</td>\n",
       "    </tr>\n",
       "    <tr>\n",
       "      <th>637</th>\n",
       "      <td>True</td>\n",
       "      <td>10</td>\n",
       "      <td>0.041277</td>\n",
       "      <td>0</td>\n",
       "    </tr>\n",
       "    <tr>\n",
       "      <th>638</th>\n",
       "      <td>True</td>\n",
       "      <td>15</td>\n",
       "      <td>0.076813</td>\n",
       "      <td>0</td>\n",
       "    </tr>\n",
       "    <tr>\n",
       "      <th>639</th>\n",
       "      <td>True</td>\n",
       "      <td>29</td>\n",
       "      <td>0.024817</td>\n",
       "      <td>0</td>\n",
       "    </tr>\n",
       "  </tbody>\n",
       "</table>\n",
       "<p>640 rows × 4 columns</p>\n",
       "</div>"
      ],
      "text/plain": [
       "     comparison  Aspect-Mentions  Sentiment  Upvotes\n",
       "0         False                0  -0.500000       44\n",
       "1         False                0  -0.475000        6\n",
       "2         False                0  -0.416667      187\n",
       "3         False                0  -0.400000        0\n",
       "4         False                0  -0.351852       70\n",
       "..          ...              ...        ...      ...\n",
       "635        True                6   0.248839        0\n",
       "636        True                7   0.041925        1\n",
       "637        True               10   0.041277        0\n",
       "638        True               15   0.076813        0\n",
       "639        True               29   0.024817        0\n",
       "\n",
       "[640 rows x 4 columns]"
      ]
     },
     "execution_count": 336,
     "metadata": {},
     "output_type": "execute_result"
    }
   ],
   "source": [
    "aspect_sentiment_upvotes"
   ]
  },
  {
   "cell_type": "code",
   "execution_count": null,
   "id": "b8d0b8a8-0462-4b27-b5b7-8e7c77679a00",
   "metadata": {},
   "outputs": [],
   "source": []
  },
  {
   "cell_type": "code",
   "execution_count": null,
   "id": "230d2936-19a6-4045-abb1-f81cfbd1b7f4",
   "metadata": {},
   "outputs": [],
   "source": []
  },
  {
   "cell_type": "code",
   "execution_count": null,
   "id": "a931ba53-8dbc-426a-b595-53406863517f",
   "metadata": {},
   "outputs": [],
   "source": []
  },
  {
   "cell_type": "code",
   "execution_count": null,
   "id": "205cd52b-e33d-45df-9dfc-fab0e807fd87",
   "metadata": {},
   "outputs": [],
   "source": []
  },
  {
   "cell_type": "code",
   "execution_count": null,
   "id": "8c86a921-659d-470d-b394-4ab95960075d",
   "metadata": {},
   "outputs": [],
   "source": []
  },
  {
   "cell_type": "code",
   "execution_count": null,
   "id": "7c57701e-48d1-4eb9-a092-1189048a020d",
   "metadata": {},
   "outputs": [],
   "source": []
  },
  {
   "cell_type": "code",
   "execution_count": null,
   "id": "d58dce50-655e-493e-a54f-a341c2815ae9",
   "metadata": {},
   "outputs": [],
   "source": []
  },
  {
   "cell_type": "code",
   "execution_count": null,
   "id": "0e0cf0d8-8dab-4ea9-b54b-2d12f028f85e",
   "metadata": {},
   "outputs": [],
   "source": []
  },
  {
   "cell_type": "code",
   "execution_count": null,
   "id": "55d1f72d-1d4f-4038-891f-5230852e04a5",
   "metadata": {},
   "outputs": [],
   "source": []
  },
  {
   "cell_type": "code",
   "execution_count": null,
   "id": "d339ed26-6d1d-493f-9a86-04ae8e1f0f35",
   "metadata": {},
   "outputs": [],
   "source": []
  },
  {
   "cell_type": "code",
   "execution_count": null,
   "id": "4b735c0d-6fb2-4767-b38e-a28e5bcb2428",
   "metadata": {},
   "outputs": [],
   "source": []
  },
  {
   "cell_type": "code",
   "execution_count": null,
   "id": "1c5933c6-6863-424a-9f39-6ae0670c6fc9",
   "metadata": {},
   "outputs": [],
   "source": []
  },
  {
   "cell_type": "code",
   "execution_count": null,
   "id": "be961bfd-33a3-4342-bf72-7211fed9e9e1",
   "metadata": {},
   "outputs": [],
   "source": []
  },
  {
   "cell_type": "code",
   "execution_count": null,
   "id": "52551a6b-a48c-46d8-9dd7-10e992a9ea11",
   "metadata": {},
   "outputs": [],
   "source": []
  },
  {
   "cell_type": "code",
   "execution_count": null,
   "id": "b430a9ba-0d2f-4e26-b87a-90077a455518",
   "metadata": {},
   "outputs": [],
   "source": []
  },
  {
   "cell_type": "code",
   "execution_count": null,
   "id": "3ff72fcd-81e4-4b2d-afe0-5da0caeac9da",
   "metadata": {},
   "outputs": [],
   "source": []
  },
  {
   "cell_type": "code",
   "execution_count": null,
   "id": "11250c61-df38-40e2-9af9-76b818046f7d",
   "metadata": {},
   "outputs": [],
   "source": []
  },
  {
   "cell_type": "code",
   "execution_count": null,
   "id": "70b2b10d-da83-4dc7-a417-c7cb9b0391c9",
   "metadata": {},
   "outputs": [],
   "source": []
  },
  {
   "cell_type": "code",
   "execution_count": null,
   "id": "4b4b352b-38d4-468e-a349-884e72cd984f",
   "metadata": {},
   "outputs": [],
   "source": []
  },
  {
   "cell_type": "code",
   "execution_count": null,
   "id": "9a0099da-6bf9-432f-9cea-cb48422d43a1",
   "metadata": {},
   "outputs": [],
   "source": []
  },
  {
   "cell_type": "code",
   "execution_count": null,
   "id": "b49dd321-5de9-471c-929c-68165fa83f7f",
   "metadata": {},
   "outputs": [],
   "source": []
  },
  {
   "cell_type": "code",
   "execution_count": null,
   "id": "12b82f3c-1d50-40d3-83ee-be92eed769f7",
   "metadata": {},
   "outputs": [],
   "source": []
  },
  {
   "cell_type": "code",
   "execution_count": null,
   "id": "d0e2e5a6-2cd3-433a-b3c4-7668a1c8bb79",
   "metadata": {},
   "outputs": [],
   "source": []
  },
  {
   "cell_type": "code",
   "execution_count": null,
   "id": "c0cf8fd2-9014-476e-bc2b-c8afb7568b10",
   "metadata": {},
   "outputs": [],
   "source": []
  },
  {
   "cell_type": "code",
   "execution_count": null,
   "id": "0184d88f-c053-4c0f-900d-67e3341ebcd0",
   "metadata": {},
   "outputs": [],
   "source": []
  },
  {
   "cell_type": "code",
   "execution_count": null,
   "id": "e11565e0-335c-48db-a01f-22f822b57229",
   "metadata": {},
   "outputs": [],
   "source": []
  },
  {
   "cell_type": "code",
   "execution_count": null,
   "id": "dec26321-eaa5-4f0a-8a33-1193be1fa092",
   "metadata": {},
   "outputs": [],
   "source": []
  },
  {
   "cell_type": "code",
   "execution_count": null,
   "id": "05a9436f-b3aa-4142-ac9a-ee3be275d725",
   "metadata": {},
   "outputs": [],
   "source": []
  },
  {
   "cell_type": "code",
   "execution_count": null,
   "id": "59fc41e5-b369-4377-8208-5ecbeaef6b0b",
   "metadata": {},
   "outputs": [],
   "source": []
  },
  {
   "cell_type": "code",
   "execution_count": null,
   "id": "fc7a0c3b-6563-49bd-9fb7-c660d594d9de",
   "metadata": {},
   "outputs": [],
   "source": []
  },
  {
   "cell_type": "code",
   "execution_count": null,
   "id": "0199d17e-4ba9-416f-aa39-d16c34d1c495",
   "metadata": {},
   "outputs": [],
   "source": []
  },
  {
   "cell_type": "code",
   "execution_count": null,
   "id": "73dce8be-a3cd-40bb-a38b-c3a5b9a9c224",
   "metadata": {},
   "outputs": [],
   "source": []
  },
  {
   "cell_type": "code",
   "execution_count": null,
   "id": "dffad573-1fb1-4fbd-a43d-39b67bb10879",
   "metadata": {},
   "outputs": [],
   "source": []
  },
  {
   "cell_type": "code",
   "execution_count": null,
   "id": "3995427a-ab23-4d08-b245-c0b9a59142d3",
   "metadata": {},
   "outputs": [],
   "source": []
  },
  {
   "cell_type": "code",
   "execution_count": null,
   "id": "4e6ecd90-e044-48f3-a947-ae842a90c886",
   "metadata": {},
   "outputs": [],
   "source": []
  },
  {
   "cell_type": "code",
   "execution_count": null,
   "id": "47c89198-d019-4bbb-a82c-0f465539c6b4",
   "metadata": {},
   "outputs": [],
   "source": []
  },
  {
   "cell_type": "code",
   "execution_count": null,
   "id": "661f260b-b95d-48be-ab8a-b5785e75485a",
   "metadata": {},
   "outputs": [],
   "source": []
  },
  {
   "cell_type": "code",
   "execution_count": null,
   "id": "6b714ed9-b58a-49b6-99b2-375181ff0927",
   "metadata": {},
   "outputs": [],
   "source": []
  },
  {
   "cell_type": "code",
   "execution_count": null,
   "id": "c644fc9f-e32a-4573-9246-18c7429eaddf",
   "metadata": {},
   "outputs": [],
   "source": []
  },
  {
   "cell_type": "code",
   "execution_count": null,
   "id": "2824dd10-3928-4e98-9244-5365e5af4024",
   "metadata": {},
   "outputs": [],
   "source": []
  },
  {
   "cell_type": "code",
   "execution_count": null,
   "id": "bb526c38-a6c7-466f-9fb5-5f7118ecc9af",
   "metadata": {},
   "outputs": [],
   "source": []
  },
  {
   "cell_type": "code",
   "execution_count": null,
   "id": "ab35f022-66cb-4b08-9982-a08a07f10477",
   "metadata": {},
   "outputs": [],
   "source": []
  },
  {
   "cell_type": "code",
   "execution_count": null,
   "id": "3af33552-bce9-4c0d-b763-eb9471726925",
   "metadata": {},
   "outputs": [],
   "source": []
  },
  {
   "cell_type": "code",
   "execution_count": null,
   "id": "3919638f-ecbe-4ed9-8d07-56dfd6fa9114",
   "metadata": {},
   "outputs": [],
   "source": []
  },
  {
   "cell_type": "code",
   "execution_count": null,
   "id": "c53b47bd-e801-495b-9e6a-eeb887cb3d51",
   "metadata": {},
   "outputs": [],
   "source": []
  },
  {
   "cell_type": "code",
   "execution_count": null,
   "id": "5f7a1af2-5b60-4d6f-85c9-56040a9f1ca3",
   "metadata": {},
   "outputs": [],
   "source": []
  },
  {
   "cell_type": "code",
   "execution_count": null,
   "id": "23983b75-f5b3-4397-8bf7-93c0b8e73005",
   "metadata": {},
   "outputs": [],
   "source": []
  },
  {
   "cell_type": "code",
   "execution_count": null,
   "id": "dba17e9a-f484-436c-be44-24d39b7a9c81",
   "metadata": {},
   "outputs": [],
   "source": []
  },
  {
   "cell_type": "code",
   "execution_count": null,
   "id": "e68fa835-ce2e-4941-8cbc-d5bc237c834f",
   "metadata": {},
   "outputs": [],
   "source": []
  },
  {
   "cell_type": "code",
   "execution_count": null,
   "id": "64ba96f6-8d9c-4b19-9360-4f2466b11776",
   "metadata": {},
   "outputs": [],
   "source": []
  },
  {
   "cell_type": "code",
   "execution_count": null,
   "id": "d77505c5-330a-4d2d-8c57-3eb39750d7fa",
   "metadata": {},
   "outputs": [],
   "source": []
  },
  {
   "cell_type": "code",
   "execution_count": null,
   "id": "5b4d8f34-29b3-4cf3-9e83-07412408517d",
   "metadata": {},
   "outputs": [],
   "source": []
  },
  {
   "cell_type": "code",
   "execution_count": null,
   "id": "4c59aa5f-6830-4875-a1c8-65f6d645c1ac",
   "metadata": {},
   "outputs": [],
   "source": []
  },
  {
   "cell_type": "code",
   "execution_count": null,
   "id": "b97fb7fb-18e4-4656-9a9d-0a136e6bcdc9",
   "metadata": {},
   "outputs": [],
   "source": []
  },
  {
   "cell_type": "code",
   "execution_count": null,
   "id": "ab9c4be1-b47e-4ff0-9c99-98883421470c",
   "metadata": {},
   "outputs": [],
   "source": []
  },
  {
   "cell_type": "code",
   "execution_count": null,
   "id": "089eff50-7356-4e06-9139-6e5082e649b7",
   "metadata": {},
   "outputs": [],
   "source": []
  },
  {
   "cell_type": "code",
   "execution_count": null,
   "id": "c2b50dd3-0073-4bbb-8173-3bfb330d983c",
   "metadata": {},
   "outputs": [],
   "source": []
  },
  {
   "cell_type": "code",
   "execution_count": null,
   "id": "c3f9e517-e0aa-4921-b6cc-cab29567ef81",
   "metadata": {},
   "outputs": [],
   "source": []
  },
  {
   "cell_type": "code",
   "execution_count": null,
   "id": "ef7575c6-41ca-4d9d-93ad-0f1bde7419e0",
   "metadata": {},
   "outputs": [],
   "source": []
  },
  {
   "cell_type": "code",
   "execution_count": null,
   "id": "3751cc13-ff47-430d-86fd-8cbf1bafbfc4",
   "metadata": {},
   "outputs": [],
   "source": []
  },
  {
   "cell_type": "code",
   "execution_count": null,
   "id": "84209f6f-58b6-4c7a-8c35-1079b298656a",
   "metadata": {},
   "outputs": [],
   "source": []
  },
  {
   "cell_type": "code",
   "execution_count": null,
   "id": "72130376-9ac7-4311-b59f-9d7b601bf248",
   "metadata": {},
   "outputs": [],
   "source": []
  },
  {
   "cell_type": "code",
   "execution_count": null,
   "id": "97b2cfef-151a-4cde-a632-a8614ee51a81",
   "metadata": {},
   "outputs": [],
   "source": []
  },
  {
   "cell_type": "code",
   "execution_count": null,
   "id": "8e4d3a3c-c405-4d5c-abc0-45cf71d8d082",
   "metadata": {},
   "outputs": [],
   "source": []
  },
  {
   "cell_type": "code",
   "execution_count": null,
   "id": "c360ad22-4eb6-4a5a-9e7d-1cd8892378f7",
   "metadata": {},
   "outputs": [],
   "source": []
  },
  {
   "cell_type": "code",
   "execution_count": null,
   "id": "fcf9e60b-805c-4358-9507-4815ae88b0b6",
   "metadata": {},
   "outputs": [],
   "source": []
  },
  {
   "cell_type": "code",
   "execution_count": null,
   "id": "5ba19879-3e54-48cb-9943-cf6877c409e6",
   "metadata": {},
   "outputs": [],
   "source": []
  },
  {
   "cell_type": "code",
   "execution_count": null,
   "id": "e2d0e1da-e42d-49e2-a88f-ffe75c071479",
   "metadata": {},
   "outputs": [],
   "source": []
  },
  {
   "cell_type": "code",
   "execution_count": null,
   "id": "a0e8b690-0f15-4078-bcb1-ddc2b3dd015f",
   "metadata": {},
   "outputs": [],
   "source": []
  },
  {
   "cell_type": "code",
   "execution_count": null,
   "id": "464d6886-c0d6-41f2-99ad-07206e455be1",
   "metadata": {},
   "outputs": [],
   "source": []
  },
  {
   "cell_type": "code",
   "execution_count": null,
   "id": "93392949-f983-4e07-9e4d-d4cace4d9288",
   "metadata": {},
   "outputs": [],
   "source": []
  },
  {
   "cell_type": "code",
   "execution_count": null,
   "id": "5f7b190f-17ab-4241-8232-5fc0ca88793c",
   "metadata": {},
   "outputs": [],
   "source": []
  },
  {
   "cell_type": "code",
   "execution_count": null,
   "id": "ffb0d95c-34c3-4a16-b739-49cbd36f3777",
   "metadata": {},
   "outputs": [],
   "source": []
  },
  {
   "cell_type": "code",
   "execution_count": null,
   "id": "dafdc57b-debf-49cb-9269-e7a6e7821691",
   "metadata": {},
   "outputs": [],
   "source": []
  },
  {
   "cell_type": "code",
   "execution_count": null,
   "id": "d9273eb8-7144-45b4-a63a-0a210640eed9",
   "metadata": {},
   "outputs": [],
   "source": []
  },
  {
   "cell_type": "code",
   "execution_count": null,
   "id": "312690ca-6fed-41a6-b048-35b0ff20e060",
   "metadata": {},
   "outputs": [],
   "source": []
  },
  {
   "cell_type": "code",
   "execution_count": null,
   "id": "30594e22-c0f8-4c48-b13d-585a6d428f52",
   "metadata": {},
   "outputs": [],
   "source": []
  },
  {
   "cell_type": "code",
   "execution_count": null,
   "id": "c0e4c9ed-12a8-4ec1-9ac7-cdc63224f282",
   "metadata": {},
   "outputs": [],
   "source": []
  },
  {
   "cell_type": "code",
   "execution_count": null,
   "id": "43a5ba1c-9e15-460b-8d5f-cd3e1afa8636",
   "metadata": {},
   "outputs": [],
   "source": []
  },
  {
   "cell_type": "code",
   "execution_count": null,
   "id": "97057ce6-8d7c-4d1a-aa99-e6733e5a0b5b",
   "metadata": {},
   "outputs": [],
   "source": []
  },
  {
   "cell_type": "code",
   "execution_count": null,
   "id": "eba5bbbb-6af2-4978-b9f4-0e915ff9be22",
   "metadata": {},
   "outputs": [],
   "source": []
  },
  {
   "cell_type": "code",
   "execution_count": null,
   "id": "34fc0728-c89a-4a2b-a18e-4e019a8bd512",
   "metadata": {},
   "outputs": [],
   "source": []
  },
  {
   "cell_type": "code",
   "execution_count": null,
   "id": "860ae9d4-967c-4a8a-9188-f5e254103c2a",
   "metadata": {},
   "outputs": [],
   "source": []
  },
  {
   "cell_type": "code",
   "execution_count": null,
   "id": "80620e84-66e8-4640-8635-e79a6819ec80",
   "metadata": {},
   "outputs": [],
   "source": []
  },
  {
   "cell_type": "code",
   "execution_count": null,
   "id": "c449f9b1-89af-45f7-a724-421cfd354cd0",
   "metadata": {},
   "outputs": [],
   "source": []
  },
  {
   "cell_type": "code",
   "execution_count": null,
   "id": "e7cd6ff0-3d94-48d7-9bee-c9ea7f2d36a5",
   "metadata": {},
   "outputs": [],
   "source": []
  },
  {
   "cell_type": "code",
   "execution_count": null,
   "id": "ee93e15d-a438-485e-a731-5003bc30de49",
   "metadata": {},
   "outputs": [],
   "source": []
  },
  {
   "cell_type": "code",
   "execution_count": null,
   "id": "8a21baec-76ea-4fad-aeba-9c6b57d14610",
   "metadata": {},
   "outputs": [],
   "source": []
  },
  {
   "cell_type": "code",
   "execution_count": null,
   "id": "ae81f9c5-d539-4769-a498-498b955a3f99",
   "metadata": {},
   "outputs": [],
   "source": []
  },
  {
   "cell_type": "code",
   "execution_count": null,
   "id": "15e6f190-0753-442b-9180-0cb56cca01c5",
   "metadata": {},
   "outputs": [],
   "source": []
  },
  {
   "cell_type": "code",
   "execution_count": null,
   "id": "e6bd2e66-eef2-429e-9263-d36bad46820c",
   "metadata": {},
   "outputs": [],
   "source": []
  },
  {
   "cell_type": "code",
   "execution_count": null,
   "id": "4d6a3634-74c8-45f5-9723-d9d8f7d45f96",
   "metadata": {},
   "outputs": [],
   "source": []
  },
  {
   "cell_type": "code",
   "execution_count": null,
   "id": "4fb97743-c66f-4e48-ad88-d3f35239e49a",
   "metadata": {},
   "outputs": [],
   "source": []
  },
  {
   "cell_type": "code",
   "execution_count": null,
   "id": "541a96a5-62b9-4870-95fd-7e74dc6233f9",
   "metadata": {},
   "outputs": [],
   "source": []
  },
  {
   "cell_type": "code",
   "execution_count": null,
   "id": "126dd7f5-9431-4740-9f07-0383d3dbd7fd",
   "metadata": {},
   "outputs": [],
   "source": []
  },
  {
   "cell_type": "code",
   "execution_count": null,
   "id": "8cf28fe8-8483-4703-90cd-a5f4ead9816e",
   "metadata": {},
   "outputs": [],
   "source": []
  },
  {
   "cell_type": "code",
   "execution_count": null,
   "id": "3f00f02c-7448-4d3e-83c8-630b7e478484",
   "metadata": {},
   "outputs": [],
   "source": []
  },
  {
   "cell_type": "code",
   "execution_count": null,
   "id": "a8efc7fd-e936-4c55-9934-0b82d431092e",
   "metadata": {},
   "outputs": [],
   "source": []
  },
  {
   "cell_type": "code",
   "execution_count": null,
   "id": "75c00cad-0457-400a-a2c6-7886a9cd72c5",
   "metadata": {},
   "outputs": [],
   "source": []
  },
  {
   "cell_type": "code",
   "execution_count": null,
   "id": "c54174ff-e2d8-4228-be07-e58f70dd30e6",
   "metadata": {},
   "outputs": [],
   "source": []
  },
  {
   "cell_type": "code",
   "execution_count": null,
   "id": "a6e4ff5b-ff68-4480-8f20-d21e31fc665f",
   "metadata": {},
   "outputs": [],
   "source": []
  }
 ],
 "metadata": {
  "kernelspec": {
   "display_name": "Python 3 (ipykernel)",
   "language": "python",
   "name": "python3"
  },
  "language_info": {
   "codemirror_mode": {
    "name": "ipython",
    "version": 3
   },
   "file_extension": ".py",
   "mimetype": "text/x-python",
   "name": "python",
   "nbconvert_exporter": "python",
   "pygments_lexer": "ipython3",
   "version": "3.11.7"
  }
 },
 "nbformat": 4,
 "nbformat_minor": 5
}
